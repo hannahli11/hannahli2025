{
 "cells": [
  {
   "cell_type": "markdown",
   "metadata": {},
   "source": [
    "---\n",
    "layout: post\n",
    "title: CS Data Blog\n",
    "description: Blog for Database and Full Stack Feature\n",
    "permalink: /datablog/\n",
    "comments: true\n",
    "---"
   ]
  },
  {
   "cell_type": "markdown",
   "metadata": {},
   "source": [
    "## Intro\n",
    "Program:\n",
    "- Connect users with similar music tastes to build a community.\n",
    "- Provide personalized artist recommendations to enhance music discovery.\n",
    "- Facilitate meaningful interactions through shared music interests.\n",
    "<img alt=\"Home Page\" src=\"/hannahli2025/images/homepage.png\"> \n",
    "\n",
    "Individual Feature:\n",
    "- Develop a recommendation system based on user-inputted artist preferences.\n",
    "- Help users discover new artists aligned with their music tastes.\n",
    "- Enhance user engagement and satisfaction through tailored suggestions.\n",
    "<img alt=\"Feature\" src=\"/hannahli2025/images/feature.png\">  \n"
   ]
  },
  {
   "cell_type": "markdown",
   "metadata": {},
   "source": [
    "## List Requests\n",
    "Dictionary converted into JSON \n",
    "<br><img alt=\"Dictionary to JSON\" src=\"/hannahli2025/images/dicjson.png\">  \n",
    "Fetched JSON into DOM and JS to display in a table\n",
    "<img alt=\"JSON to DOM\" src=\"/hannahli2025/images/jsondom.png\"> \n",
    "\n",
    "Query from database  (Queries provided by SQLAlchemy library, simplifies working with database)\n",
    "<img alt=\"Query\" src=\"/hannahli2025/images/queryall.png\" width=\"700\" height=\"35\"> \n",
    "- query filtering by UID and first record that matches\n",
    "\n",
    "<img alt=\"Query by UID\" src=\"/hannahli2025/images/queryuid.png\" width=\"450.75\" height=\"45\"> \n",
    "\n",
    "ArtInfoResource class methods to handle database columns\n",
    "<img alt=\"Create method\" src=\"/hannahli2025/images/createm.png\">\n",
    "<img alt=\"Read method\" src=\"/hannahli2025/images/readm.png\" width=\"307.5\" height=\"20\">\n",
    "<br><img alt=\"Update method\" src=\"/hannahli2025/images/updatem.png\" width=\"225\" height=\"26.25\">\n",
    "<br><img alt=\"Delete method\" src=\"/hannahli2025/images/deletem.png\" width=\"187.5\" height=\"26.25\">\n"
   ]
  },
  {
   "cell_type": "markdown",
   "metadata": {},
   "source": [
    "## Algorithmic code request\n",
    "Get, post, put, delete methods in ArtInfoResource class\n",
    "<img alt=\"Get and Post\" src=\"/hannahli2025/images/getpost.png\"> \n",
    "<img alt=\"PUT\" src=\"/hannahli2025/images/put.png\"> \n",
    "<img alt=\"DELETE\" src=\"/hannahli2025/images/delete.png\"> \n",
    "\n",
    "Sequencing, selection, and iteration\n",
    "<br><img alt=\"GET SSI\" src=\"/hannahli2025/images/getssi.png\"> \n",
    "\n",
    "Parameters sent in JSON (name, uid, favorite artist), return response in JSON with requested infromation or error message\n",
    "<br><img alt=\"Parameters and JSON\" src=\"/hannahli2025/images/paramJSON.png\"> "
   ]
  },
  {
   "cell_type": "markdown",
   "metadata": {},
   "source": [
    "## Call to Algorithm Request\n",
    "Fetch to endpoint\n",
    "<br><img alt=\"Post Request\" src=\"/hannahli2025/images/postrequest.png\"> \n",
    "\n",
    "Response to fetch & Normal Condition Response\n",
    "<img alt=\"Post Response\" src=\"/hannahli2025/images/response.png\"> \n",
    "\n",
    "Data handled into a table\n",
    "<br><img alt=\"Table\" src=\"/hannahli2025/images/table.png\"> \n",
    "\n",
    "Error condition Reponse\n",
    "<br><img alt=\"Error Reponse\" src=\"/hannahli2025/images/errorreponse.png\"> "
   ]
  }
 ],
 "metadata": {
  "language_info": {
   "name": "python"
  }
 },
 "nbformat": 4,
 "nbformat_minor": 2
}
