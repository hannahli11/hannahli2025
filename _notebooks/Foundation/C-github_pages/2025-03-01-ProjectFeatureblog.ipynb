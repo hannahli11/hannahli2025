{
 "cells": [
  {
   "cell_type": "markdown",
   "metadata": {},
   "source": [
    "---\n",
    "layout: post\n",
    "title: Project Feature blog\n",
    "description: Blog for Final\n",
    "permalink: /projectblog/\n",
    "comments: true\n",
    "---"
   ]
  },
  {
   "cell_type": "markdown",
   "metadata": {},
   "source": [
    "## Artist Recommendation Feature \n",
    "\n",
    "---\n",
    "\n",
    "The Artist Recommendation Feature allows users to receive personalized music artist recommendations based on their input. When a user specifies their favorite artist, the system processes this input and returns a list of suggested artists that align with the user’s musical preferences. The user also has the ability to update their favorite artist, which dynamically adjusts the recommendations.  \n",
    "\n",
    "### **Functionality and Implementation**  \n",
    "- The feature takes user input, specifically their favorite artist, as a parameter.  \n",
    "- It retrieves a pre-existing list of recommended artists associated with the input artist.  \n",
    "- The system ensures that previously favorited artists (stored separately) are not recommended again.  \n",
    "- Users can modify their favorite artist, triggering an update in the recommendation list.  \n",
    "\n",
    "### **Abstraction and Algorithms**  \n",
    "- The recommendation process is abstracted by storing related artists in a predefined list.  \n",
    "- When a user inputs their favorite artist, the system retrieves a corresponding list of recommended artists.  \n",
    "- A filtering step is applied to remove any artists the user has already favorited.  \n",
    "- If the user changes their favorite artist, a new list is retrieved, ensuring updated recommendations.  \n",
    "\n",
    "This feature enhances user engagement by providing dynamic and personalized artist suggestions while maintaining flexibility for user input adjustments.  \n",
    "<br><img alt=\"feature\" src=\"/hannahli2025/images/feature.png\"> \n",
    "\n",
    "---\n"
   ]
  },
  {
   "cell_type": "markdown",
   "metadata": {},
   "source": [
    "## 🏆 Accomplishments\n",
    "\n",
    "---\n",
    "\n",
    "### **1. Database Management**  \n",
    "- Ensured the proper functionality of database initialization (`db_init`), backup (`db_backup`), and restoration (`db_restore`).  \n",
    "- Identified and resolved errors across all team members’ features to ensure smooth and reliable data handling.  \n",
    "\n",
    "### **2. API Setup and Support**  \n",
    "- Assisted team members in setting up their APIs and properly configuring `main.py` files for API functionality.  \n",
    "- Provided guidance on coding database table creation for each team member’s unique feature.  \n",
    "\n",
    "### **3. CRUD Operations Implementation**  \n",
    "- Developed and verified CRUD (Create, Read, Update, Delete) methods for core database entities.  \n",
    "- Ensured all team members’ features could efficiently interact with the database.  \n",
    "\n",
    "### **4. Deployment**  \n",
    "- Assisted in modifying frontend code to ensure successful deployment.  \n",
    "- Deployed our website and verified its functionality.  \n",
    "- Taught team members how to confirm their feature deployment by checking the cockpit database in the terminal.  \n",
    "\n",
    "### **5. Frontend-Backend Integration**  \n",
    "- Supported team members in integrating frontend and backend systems for seamless communication.  \n",
    "- Ensured API endpoints were correctly implemented and functioning as intended.\n",
    "\n",
    "\n",
    "---"
   ]
  },
  {
   "cell_type": "markdown",
   "metadata": {},
   "source": [
    "## Burndown list\n",
    "<br><img alt=\"Burndown\" src=\"/hannahli2025/images/burndown.png\"> \n",
    "<br> - Managed the initiated burndown list, ensuring the completion of all tasks and that feature fulfilled CPT requirements. \n",
    "\n",
    "### CPT requirement highlights: \n",
    "- The feature collects user input (such as favorite genres, artists, and username) to generate personalized artist recommendations.\n",
    "- A list (or collection type) is used to store artist recommendations and user favorites, simplifying data management and handling.\n",
    "- The feature includes a student-developed procedure that processes user input and provides the list of recommended artists.\n",
    "- The algorithm includes sequencing, selection (to filter out already favored artists), and iteration (to loop through artist data).\n",
    "- The procedure is called in response to user input and triggers output of the artist recommendations.\n",
    "- Visual output is displayed to the user, showing the list of recommended artists.\n",
    "\n",
    "\n",
    "\n",
    "---"
   ]
  },
  {
   "cell_type": "markdown",
   "metadata": {},
   "source": [
    "## Issues\n",
    "- Created issues for large tasks in the Kanban board and set up burndown lists to ensure their completion.\n",
    "<br><img alt=\"Frontend to Backend issue\" src=\"/hannahli2025/images/ftob.png\"> \n",
    "<br><img alt=\"server\" src=\"/hannahli2025/images/server.png\"> \n",
    "\n",
    "---"
   ]
  },
  {
   "cell_type": "markdown",
   "metadata": {
    "vscode": {
     "languageId": "html"
    }
   },
   "source": [
    "## MCQ Corrections\n",
    "- Q11. A is correct as the binary number 11111111 is equal to 255 as each 1 is two to the power of its number placement in the binary number starting from zero left to right . So he binary number 11110000 is equal to 240. Therefore, the given binary triplet represents the color ivory. Light yellow binary RBG triplet by math should be (11111111, 11111111, 11100000)\n",
    "- Q23. D is correct as the algorithm in the flowchart requires both conditions to be true in order to set available to true. C is incorrect as both conditions need to be tru in order to set available to true\n",
    "- Q29. A is correct as Losssless compression is a technique that allows for complete reconstruction of the original data. B is an example of lossy audio compression where the file is compressed and transmitted.\n",
    "- Q39. C is correct as the program does not include the first element of the list in the sum because i is incremented before nums[i] is added to sum. By interchanging these two lines of code, the program will include all of the first ten elements of the list when computing the sum. Answer B doesn't fix the problem but only terminate the program at 10. \n",
    "- Q40. D is correct as Certificate authorities are entities that issue digital certificates, which are used to certify the ownership of public keys. C is incorrect as domain names into IP addresses uses domain system which isn't performed by certificate authorities.\n",
    "- Q43. C is correct as tt is possible to have redundant routing in both configurations. In configuration I, some possible routes between computers Q and V include Q-P-V, Q-T-V, and Q-R-S-V. In configuration II, some possible routes between computers Q and V include Q-S-V, Q-R-T-V, and Q-P-T-V. Redundant routing is configuration that has multiple paths so that if one route fails, data can still reach its destination through other routes. \n",
    "- Q47. C is correct because in order for a binary search on a list to work as intended, the list must be sorted. Even if it has duplicate values the binary search will work on any sorted list.\n",
    "- Q50. D is correct, For an algorithm to run in reasonable time, it must take a number of steps less than or equal to a polynomial function. Algorithm I accesses elements \n",
    " 2n times (twice for each of n elements), which is considered reasonable time. Algorithm II accesses n to the power of two elements (n times for each of n elements), which is considered reasonable time. Algorithm III accesses 10 elements, which is considered reasonable time.\n",
    " - Q51. A is correct, Creative Commons licensing allows copyright owners to specify the ways in which their works can be used or distributed. This allows individuals to access or modify these works without the risk of violating copyright laws.\n",
    " - Q59. C is correct, Open-source software has source code that is released under a license that allows users the rights to use and distribute it. However, there is no guarantee that the original developer of open-source software will provide support for its users. B isn't correct as it allows developers to customize the source code to their needs\n",
    " - Q67. A and B are correct, For B code segment, count is increased to 1 the first time \"maple\" is encountered in the list. However, count is reset to 0 when the code segment moves to the next list element. This causes the procedure to return 0 instead of the intended result 1.\n",
    "\n",
    "---\n"
   ]
  },
  {
   "cell_type": "markdown",
   "metadata": {},
   "source": [
    "## N@tM Feedback\n",
    "<br><img alt=\"feedback\" src=\"/hannahli2025/images/feedback.png\" width=\"800\"> \n",
    "<br> Most of the feedback on our website was positive, complimenting our frontend and features, we should have had a google form for the users to specifcally give feedback on what to improve on. Personally, the frontend could have been made more minamalist and features could have been more unified and purposeful\n",
    "\n",
    "---"
   ]
  },
  {
   "cell_type": "markdown",
   "metadata": {
    "vscode": {
     "languageId": "html"
    }
   },
   "source": [
    "## Reflection and Retrospection\n",
    "\n",
    "### Interest in Others\n",
    "<br><img alt=\"bathroom\" src=\"/hannahli2025/images/bathroom.jpg\" width=\"300\"> \n",
    "<br> - I was particularly interested in this project because it was unqiue as it was a phyiscal project where they turned their idea into an actual helpful invention. They took a real world issue/topic of bathroom passes and made a solution to it that is functional and easy. The project was simple but great as it made it easy to see when and how long students go to the bathroom and using the school IDs that all students have to track who it is.\n",
    "<div style=\"display: flex;\">\n",
    "    <img alt=\"LitConnect\" src=\"/hannahli2025/images/IMG_9162.jpg\" width=\"300\" style=\"margin-right: 10px;\" />\n",
    "    <img alt=\"LitConnect\" src=\"/hannahli2025/images/IMG_9164.JPG\" width=\"400\" height= \"300\" />\n",
    "</div>\n",
    "<br> - I really found interest in the website LitConnect because as someone who is an avid reader this can help with keeping track of the books I'm reading, record down the books I really enjoy, write down the books I want to read, get recommendations, and so much more. This website in general provides so many tools and fun little features that support my enjoyment in reading. \n",
    "\n",
    "---\n",
    "\n",
    "### Practice Live Review\n",
    "- Before N@tM our group performed a practice live review/presentation of our website to Ms. Pataki, recieving her feedback and fixing our website, particularly our frontend, based on it\n",
    "\n",
    "---\n",
    "\n",
    "### Individual Strengths & Weaknesses  \n",
    "\n",
    "| Strengths                     | Weaknesses                      |\n",
    "|--------------------------------|--------------------------------|\n",
    "| **Proactive Learner** – Not afraid to ask for help and encourages collaboration. | **Easily Frustrated** – Can get discouraged and upset when facing obstacles. |\n",
    "| **Team-Oriented** – Always willing to assist team members and ensure they stay on track. | **Prone to Simple Mistakes** – Occasionally makes minor coding errors. |\n",
    "| **Effective Communicator** – Explains concepts clearly to help others understand. | **Overly Serious** – Can be too strict or serious in team settings. |\n",
    "| **Problem Solver** – Committed to overcoming challenges and finding solutions. | **Big-Picture Thinker** – Sometimes takes on large tasks instead of breaking them into smaller steps. |\n",
    "| **Dedicated & Hardworking** – Continuously strives for improvement and personal growth. |  |\n",
    "\n",
    "\n",
    "### **Self-Evaluation**\n",
    "\n",
    "  - Consistently asked for help and resolved issues in code and deployment.\n",
    "  - Took on too many tasks instead of delegating to others to help and have better cooperation.\n",
    "  - Was too serious and expected quick results, which led to doing most tasks myself and putting pressure on myself.\n",
    "  - Helped the team stay on track and complet tasks successfully.\n",
    "\n",
    "---\n"
   ]
  },
  {
   "cell_type": "markdown",
   "metadata": {},
   "source": [
    "## Reflection on Project  \n",
    "\n",
    "---\n",
    "\n",
    "### **Next Steps**  \n",
    "1. **Feature Integration** – Connect individual features to create a cohesive and unified platform.  \n",
    "2. **Improved Authentication** – Ensure users do not need to manually enter their name or username when logged in.  \n",
    "3. **Refined Design** – Enhance the UI/UX to align better with the concept of a music preference-based \"dating\" site.  \n",
    "4. **Increased Functionality** – Expand features to add depth and purpose beyond basic interactions.  \n",
    "\n",
    "---\n",
    "\n",
    "### **Strengths**  \n",
    "✔ **Core Features Implemented** – Includes key elements expected in a music preference-based \"dating\" site.  \n",
    "✔ **Visually Engaging** – The design captures user interest effectively.  \n",
    "✔ **Unique Functionality** – Features like artist recommendations and profile creation enhance the user experience.  \n",
    "\n",
    "---\n",
    "\n",
    "### **Weaknesses & Areas for Improvement**  \n",
    "✖ **Overly Playful Design** – Lacks a professional and polished look.  \n",
    "✖ **Manual Input Issues** – Some features require users to re-enter their name or ID despite being logged in.  \n",
    "✖ **Simplistic Structure** – The platform is too basic and could benefit from additional functionality.  \n",
    "✖ **Lack of Feature Integration** – Features operate independently rather than as a seamless system.  \n",
    "\n",
    "\n",
    " \n"
   ]
  },
  {
   "cell_type": "markdown",
   "metadata": {},
   "source": []
  }
 ],
 "metadata": {
  "language_info": {
   "name": "python"
  }
 },
 "nbformat": 4,
 "nbformat_minor": 2
}
