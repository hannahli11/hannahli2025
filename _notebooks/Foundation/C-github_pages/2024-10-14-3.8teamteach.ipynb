{
 "cells": [
  {
   "cell_type": "markdown",
   "metadata": {},
   "source": [
    "## 3.8.1 Popcorn Hack 1:"
   ]
  },
  {
   "cell_type": "code",
   "execution_count": 4,
   "metadata": {},
   "outputs": [
    {
     "name": "stdout",
     "output_type": "stream",
     "text": [
      "hello\n",
      "hello\n",
      "hello\n",
      "hello\n",
      "hello\n"
     ]
    }
   ],
   "source": [
    "count = 0\n",
    "while count < 5:\n",
    "    print(\"hello\")\n",
    "    count += 1\n",
    "\n"
   ]
  },
  {
   "cell_type": "markdown",
   "metadata": {},
   "source": [
    "## 3.8.2 Popcorn Hack 2:"
   ]
  },
  {
   "cell_type": "code",
   "execution_count": 2,
   "metadata": {},
   "outputs": [
    {
     "name": "stdout",
     "output_type": "stream",
     "text": [
      "Hannah\n",
      "Ren\n",
      "Ren\n",
      "Li\n",
      "Li\n",
      "Li\n",
      "Hannah\n",
      "Ren\n",
      "Ren\n",
      "Li\n",
      "Li\n",
      "Li\n",
      "Hannah\n",
      "Ren\n",
      "Ren\n",
      "Li\n",
      "Li\n",
      "Li\n",
      "Hannah\n",
      "Ren\n",
      "Ren\n",
      "Li\n",
      "Li\n",
      "Li\n"
     ]
    }
   ],
   "source": [
    "# Define the names\n",
    "first_name = \"Hannah\"\n",
    "middle_name = \"Ren\"\n",
    "last_name = \"Li\"\n",
    "\n",
    "# Loop to repeat the entire process 4 times\n",
    "for _ in range(4):\n",
    "    print(first_name)         # Print first name 1 time\n",
    "    for _ in range(2):\n",
    "        print(middle_name)    # Print middle name 2 times\n",
    "    for _ in range(3):\n",
    "        print(last_name)      # Print last name 3 times\n"
   ]
  },
  {
   "cell_type": "markdown",
   "metadata": {},
   "source": [
    "## 3.8.3 Popcorn Hack 3:"
   ]
  },
  {
   "cell_type": "code",
   "execution_count": 1,
   "metadata": {},
   "outputs": [
    {
     "name": "stdout",
     "output_type": "stream",
     "text": [
      "H\n",
      "a\n",
      "n\n",
      "n\n",
      "a\n",
      "h\n"
     ]
    }
   ],
   "source": [
    "name = \"Hannah\"\n",
    "\n",
    "for letter in name:\n",
    "    print(letter)\n"
   ]
  },
  {
   "cell_type": "markdown",
   "metadata": {},
   "source": [
    "## 3.8.4 Popcorn Hack #4:"
   ]
  },
  {
   "cell_type": "code",
   "execution_count": null,
   "metadata": {},
   "outputs": [],
   "source": [
    "# Create a dictionary\n",
    "person_info = {\n",
    "    \"name\": \"Hannah Li\",\n",
    "    \"age\": 17,\n",
    "    \"city\": \"San Diego\",\n",
    "    \"occupation\": \"Student\"\n",
    "}\n",
    "\n",
    "# Iterate through each key-value pair in the dictionary\n",
    "for key, value in person_info.items():\n",
    "    print(f\"Key: {key}, Value: {value} - This is a great detail!\")\n"
   ]
  },
  {
   "cell_type": "markdown",
   "metadata": {},
   "source": [
    "## 3.8.5 Hack #1:"
   ]
  },
  {
   "cell_type": "code",
   "execution_count": 5,
   "metadata": {},
   "outputs": [
    {
     "name": "stdout",
     "output_type": "stream",
     "text": [
      "Incorrect password, please try again.\n",
      "Incorrect password, please try again.\n",
      "Incorrect password, please try again.\n",
      "Password is correct!\n"
     ]
    }
   ],
   "source": [
    "# Define the correct password\n",
    "correct_password = \"ilovemymom\"\n",
    "\n",
    "# Loop until the user enters the correct password\n",
    "while True:\n",
    "    # Ask the user for the password\n",
    "    entered_password = input(\"Please enter your password: \")\n",
    "    \n",
    "    # Check if the password is correct\n",
    "    if entered_password == correct_password:\n",
    "        print(\"Password is correct!\")\n",
    "        break  # Exit the loop if the password is correct\n",
    "    else:\n",
    "        print(\"Incorrect password, please try again.\")\n"
   ]
  },
  {
   "cell_type": "markdown",
   "metadata": {},
   "source": [
    "## 3.8.5 Hack #2:"
   ]
  },
  {
   "cell_type": "code",
   "execution_count": 6,
   "metadata": {},
   "outputs": [
    {
     "name": "stdout",
     "output_type": "stream",
     "text": [
      "h\n",
      "a\n",
      "n\n",
      "n\n",
      "a\n",
      "h\n"
     ]
    }
   ],
   "source": [
    "# Ask the user for their name\n",
    "name = input(\"Please enter your name: \")\n",
    "\n",
    "# Iterate through the name letter by letter\n",
    "for letter in name:\n",
    "    print(letter)\n"
   ]
  },
  {
   "cell_type": "markdown",
   "metadata": {},
   "source": [
    "## 3.8.5 Hack #3:"
   ]
  },
  {
   "cell_type": "code",
   "execution_count": 7,
   "metadata": {},
   "outputs": [
    {
     "name": "stdout",
     "output_type": "stream",
     "text": [
      "Apple\n",
      "Banana\n",
      "Orange\n",
      "Mango\n",
      "Pineapple\n",
      "Grapes\n",
      "Strawberry\n"
     ]
    }
   ],
   "source": [
    "# Create a list of fruits\n",
    "fruits = [\"Apple\", \"Banana\", \"Orange\", \"Mango\", \"Pineapple\", \"Grapes\", \"Strawberry\"]\n",
    "\n",
    "# Iterate through the list and print each fruit\n",
    "for fruit in fruits:\n",
    "    print(fruit)\n"
   ]
  }
 ],
 "metadata": {
  "kernelspec": {
   "display_name": "venv",
   "language": "python",
   "name": "python3"
  },
  "language_info": {
   "codemirror_mode": {
    "name": "ipython",
    "version": 3
   },
   "file_extension": ".py",
   "mimetype": "text/x-python",
   "name": "python",
   "nbconvert_exporter": "python",
   "pygments_lexer": "ipython3",
   "version": "3.12.3"
  }
 },
 "nbformat": 4,
 "nbformat_minor": 2
}
