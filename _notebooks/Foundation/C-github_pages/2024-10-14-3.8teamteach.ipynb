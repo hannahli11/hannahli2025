{
 "cells": [
  {
   "cell_type": "markdown",
   "metadata": {},
   "source": [
    "## 3.8.1 Popcorn Hack 1:"
   ]
  },
  {
   "cell_type": "code",
   "execution_count": null,
   "metadata": {},
   "outputs": [],
   "source": [
    "let count = 0;\n",
    "while (count < 5) {\n",
    "  console.log(\"hello\");\n",
    "  count++;\n",
    "}\n"
   ]
  },
  {
   "cell_type": "markdown",
   "metadata": {},
   "source": [
    "## 3.8.2 Popcorn Hack 2:"
   ]
  },
  {
   "cell_type": "code",
   "execution_count": null,
   "metadata": {},
   "outputs": [],
   "source": [
    "# Define the names\n",
    "first_name = \"Hannah\"\n",
    "middle_name = \"Ren\"\n",
    "last_name = \"Li\"\n",
    "\n",
    "# Loop to repeat the entire process 4 times\n",
    "for _ in range(4):\n",
    "    print(first_name)         # Print first name 1 time\n",
    "    for _ in range(2):\n",
    "        print(middle_name)    # Print middle name 2 times\n",
    "    for _ in range(3):\n",
    "        print(last_name)      # Print last name 3 times\n"
   ]
  },
  {
   "cell_type": "markdown",
   "metadata": {},
   "source": [
    "## 3.8.3 Popcorn Hack 3:"
   ]
  },
  {
   "cell_type": "code",
   "execution_count": null,
   "metadata": {},
   "outputs": [],
   "source": [
    "name = \"Hannah\"\n",
    "\n",
    "for letter in name:\n",
    "    print(letter)\n"
   ]
  }
 ],
 "metadata": {
  "language_info": {
   "name": "python"
  }
 },
 "nbformat": 4,
 "nbformat_minor": 2
}
