{
 "cells": [
  {
   "cell_type": "markdown",
   "metadata": {},
   "source": [
    "---\n",
    "layout: post\n",
    "title: CS Data Blog\n",
    "description: Blog for Database and Full Stack Feature\n",
    "permalink: /datablog/\n",
    "comments: true\n",
    "---"
   ]
  },
  {
   "cell_type": "markdown",
   "metadata": {},
   "source": [
    "## 4.1 Video\n",
    "Daily Video 1\n",
    "- A packet is a small amount of data sent over a network. Each packet also includes the source and the destination information. \n",
    "- A computer system is group of computing devices and programs working together for a joint purpose\n",
    "- Computer network: group of interconnected computing devices capable of sending or receiving data, type of computer system\n",
    "- Packet switching: message (file) is broken up into packets and sent in any order. The packets are reassembled by the recipient's device\n",
    "- Path between two computing devices on a computer network (sender and receiver) is a sequence of directly connected computing devices that begins at the sender and ends at the receiver\n",
    "- Bandwidth: maximum amount of data that can be sent in a fixed amount of time on a computer network, typically measured in bits per second\n",
    "- Computers need to connect to transmit data to make things easier\n",
    "- We use packets to transmit data because we can take it and move it through the internet all at once it is too big\n",
    "Daily Video 2\n",
    "- Protocol: agreed-upon set of rules that specify the behavior of a system\n",
    "- OSI: Open Systems Interconnect, layers you have to go through to communicate (7 groups of protocol)\n",
    "- TCP: Transmission Control Protocol, establishes a common standard\n",
    "- IETF: Internet Engineering Task Force, manages the development of standards and technical discussions concerning the internet in an open and collaborative process\n",
    "- How once device transfers information to another (Narrow Waist): Application -> Transport -> Internet <- Network Access\n",
    "- Many different protocols, standards, data formats..etc used at \"Application\" and \"Transport\" layers\n",
    "- Many different protocols and hardware used at the Network Access Layer \n",
    "- They meet in the middle at the \"Internet\" layer where you use IP Addresses, it is the common link\n",
    "- Network Access Layer: carry's 0's and 1's between the 2 devices, most common protocol is Ethernet impliments in Network Interface Cards(NIC), general function of physical layer is to deliver packets from one NIC to another (\"hop\"), NIC has unique address with it called a Media Access Control Adress (MAC) used for local hops\n",
    "- A packet contains data that is being transmitted and metadata containing information used for routing information\n",
    "- Routing on the internet is usually dyanmic; not specified in advance\n",
    "- Scalability of a system is the capacity for the system to change in size and scale to meet new demands\n",
    "- Internet was designed to be scalable\n",
    "<img alt=\"Network diagram\" src=\"/hannahli2025/images/networkdiagram.png\"> "
   ]
  },
  {
   "cell_type": "markdown",
   "metadata": {},
   "source": [
    "## 4.2 Video \n",
    "- The Internet has been engineered to be fault-tolerant, with abstractions for routing and transmitting data\n",
    "- Redundancy is the inclusion of extra components that can be used to mitigate failure of a system if other components fail\n",
    "- one way to accomplish network redundancy is by having more than one path between any to connected devices \n",
    "- Redundancy within a system often requires additional resources but can provide the benefit of fault tolerance\n",
    "-The redundancy of routing options between two points increases the reliability of the Internet and helps it scale to more devices and more people\n",
    "<img alt=\"Network Redundancy\" src=\"/hannahli2025/images/networkredun.png\"> "
   ]
  },
  {
   "cell_type": "markdown",
   "metadata": {},
   "source": [
    "## 4.3 Video\n",
    "- Sequential computing is a computational model in which operations are performed in order one at a time\n",
    "- Parallet computing is a computational model where the program is broken into multiple smaller sequential computing operations, some of which are performed simultaneously\n",
    "- Distributed computing is a computational model in which multiple devices are used to run a program\n",
    "- Comparing efficiency of solutions can be done by comparing the time it takes them to perform the same task\n",
    "- A sequential solution takes as long as the sum of all its steps\n",
    "- A parallel computing solution takes as long as its sequential tasks plus the longest of its parallel tasks\n",
    "- The speedup of a parallel solution is measured in the time it took to complete the task sequentially divided by the time it took to complete the task when done in the parallel\n",
    "<img alt=\"Computing\" src=\"/hannahli2025/images/computing.png\"> "
   ]
  }
 ],
 "metadata": {
  "language_info": {
   "name": "python"
  }
 },
 "nbformat": 4,
 "nbformat_minor": 2
}
