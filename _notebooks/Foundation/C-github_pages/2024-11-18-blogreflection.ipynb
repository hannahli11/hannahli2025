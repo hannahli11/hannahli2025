{
 "cells": [
  {
   "cell_type": "markdown",
   "metadata": {},
   "source": [
    "---\n",
    "layout: post\n",
    "title: MCQ Blog Reflection\n",
    "description: Reflection and Corrections of 2018 MCQ\n",
    "permalink: /blogreflection/\n",
    "comments: true\n",
    "---"
   ]
  },
  {
   "cell_type": "markdown",
   "metadata": {},
   "source": [
    "## What I learned from the Quiz\n",
    "I learned and was familiar with the pogramming concepts like boolean, loops, conditionals...etc. I also gained insight into protocols like IPv4 which I have never seen before. Most of the questions helped strengthen my logical thinking and I learned some problem-solving skills through the questions that had me analyze the algorithm by figuring out what goes in the missing code."
   ]
  },
  {
   "cell_type": "markdown",
   "metadata": {},
   "source": [
    "## Which Type of Questions I Feel Weak On\n",
    "I think the questions I struggled the most on were the ones where I had to figure out what goes in the missing code or spotting errors in the code. Protocols were definitely the most difficult because most of them I have never heard before and I don't know what they are. Some of the questions about security is ethics were also a little challenging as the answers all seemed convincing. "
   ]
  },
  {
   "cell_type": "markdown",
   "metadata": {},
   "source": [
    "## Corrections\n",
    "\n",
    "- Q14. C is correct answer as the display code for Program A and B are at different lines therefore the values differ\n",
    "- Q21. B is correct the robot must rotate right 3 times in order to face the gray square \n",
    "- Q26. A is correct as it rotates the robot right whenever there is an open square to the right\n",
    "- Q29. A is correct as both the first gates will produce an output of false so the circuit will also be false\n",
    "- Q31. C is correct as the first program makes the robot rotate left or right not move left or right\n",
    "- Q37. C is correct as the code for segment one has the arithmetic operation inside the loop not outside for it to be performed only once\n",
    "- Q42. two to the power of 128 divided by two to the power of 32 is two to the power of 96\n",
    "- Q43. A is correct as the number of steps of the algorithm is polynomial so it runs in reasonable time\n",
    "- Q44. B is correct with 4 bit integer representation only numbers 0-15 can be represented so anything above will result in overflow error\n",
    "- Q45. C is correct NOT(P AND Q) will result in it being false when both P and Q are true\n",
    "- Q46. D is correct as an undecidable program is when no algorithm can constructed that leads to a correct yes or no answer\n",
    "- Q47. D is correct because in public cryptography it is always decrypted with the recipient's private key\n",
    "- Q48. D is correct as it produces a result from 1 to 75 which is 75% of the time\n",
    "- Q50. B is correct as the procedure is linear search as it sequentially compares each element of the list with the target\n",
    "- Q51. B is correct as the secret key is used for both encryption and decryption of the message\n",
    "- Q55. D is correct becuase user can't put both y and yes so it will always be false\n",
    "- Q56. D is correct as it counts by odd integer and the loop iterates 10 times\n",
    "- Q60. A is correct too Replacing repeated code with a call to a procedure makes it easier for a programmer\n",
    "- Q65. B is correct too as the condition count = y will never be met since the count begins at 0 and repeatedly increases."
   ]
  },
  {
   "cell_type": "markdown",
   "metadata": {},
   "source": [
    "## Analytics\n",
    "0% - 3.10 Lists and 3.18 Undecidable Problems -> In order to improve I will revisit the foundational concepts and definitions to ensure I understand them thoroughly. I will review where I went wrong in the questions, focus on learning reduction techniques for undecidable problems, and practice analyzing list operations and their complexities. Additionally, I’ll work on more practice MCQs, seek clarification on confusing topics, and reinforce my learning through examples and practical applications.\n",
    "\n",
    "25% and 33% - 3.9 Developing Algorithms, 3.5 Boolean Expressions, 5.6 Safe Computing -> In order to improve I will revisit the core principles and logic for each topic. For boolean expressions, I’ll practice truth tables, simplifications, and common laws like De Morgan’s. For developing algorithms, I will focus on understanding problem requirements, breaking them into smaller steps, and analyzing time and space complexity. For safe computing, I will review security best practices, such as recognizing phishing attempts, creating strong passwords, and understanding basic cybersecurity principles.\n",
    "\n",
    "50% - 2.1 Binary Numbers, 3.6 Conditionals, 3.8 Iteration, 3.13 Developing Procedures, 3.15 Random Values, 3.17 Algorithmic Efficiency, 3.12 Calling Procedures ->  will revisit the core concepts for each. I’ll practice binary conversions, logical flow in conditionals, and loop behavior. I’ll focus on writing modular procedures, generating and using random values, analyzing algorithms with Big-O notation, and understanding function calls. \n",
    "\n",
    "60% and 75% - 1.4 Identifying and Correcting Errors, 1.3 Program Design and Development ->I will focus on reviewing debugging techniques, understanding common error patterns, and practicing how to trace code step-by-step to find issues. For program design, I’ll revisit key principles like breaking problems into smaller tasks, planning algorithms, and writing pseudocode.\n",
    "\n"
   ]
  }
 ],
 "metadata": {
  "language_info": {
   "name": "python"
  }
 },
 "nbformat": 4,
 "nbformat_minor": 2
}
