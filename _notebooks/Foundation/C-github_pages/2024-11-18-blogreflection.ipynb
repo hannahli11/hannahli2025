{
 "cells": [
  {
   "cell_type": "markdown",
   "metadata": {},
   "source": [
    "---\n",
    "layout: post\n",
    "title: MCQ Blog Reflection\n",
    "description: Reflection and Corrections of 2018 MCQ\n",
    "permalink: /blogreflection/\n",
    "comments: true\n",
    "---"
   ]
  },
  {
   "cell_type": "markdown",
   "metadata": {},
   "source": [
    "## What I learned from the Quiz\n",
    "I learned and was familiar with the pogramming concepts like boolean, loops, conditionals...etc. I also gained insight into protocols like IPv4 which I have never seen before. Most of the questions helped strengthen my logical thinking and I learned some problem-solving skills through the questions that had me analyze the algorithm by figuring out what goes in the missing code."
   ]
  },
  {
   "cell_type": "markdown",
   "metadata": {},
   "source": [
    "## Which Type of Questions I Feel Weak On\n",
    "I think the questions I struggled the most on were the ones where I had to figure out what goes in the missing code or spotting errors in the code. Protocols were definitely the most difficult because most of them I have never heard before and I don't know what they are. Some of the questions about security is ethics were also a little challenging as the answers all seemed convincing. "
   ]
  },
  {
   "cell_type": "markdown",
   "metadata": {},
   "source": [
    "## Corrections\n",
    "\n",
    "- Q14. C is correct answer as the display code for Program A and B are at different lines therefore the values differ. \n",
    "        - I got the question wrong because because I thought since the code were the same but in different order that it would give the same values. But because it is in different order the values that are displayed will be different. \n",
    "        - To improve next time I need to thoroughly and logically understand the code and the order. \n",
    "- Q21. B is correct the robot must rotate right 3 times in order to face the gray square. \n",
    "        - I thought answer A was correct because I accidentally thought RightXTimes meant moving right not rotating right so it was mistake in reading the question. \n",
    "        - To improve next time I will thoroughly read the question and the answers before I answer.\n",
    "- Q26. A is correct as it rotates the robot right whenever there is an open square to the right then will move forward no matter what after.\n",
    "        - I wrongly understood the code as a coditional entirely and not a conditional for only the first part  and then will excecute the line after no matter what. I wrongly thought the whole code as an \"if-else\" statement. \n",
    "        - To improve I will carefully read the answers and ensure that if there are no statements indicating if it is a conditional, then it isn't. \n",
    "- Q29. A is correct as both the first gates will produce an output of false so the circuit will also be false\n",
    "        - I didn't understand and was confused by the logic gates, therefore I randomly selected an answer as I didn't know how logic gates work. But now I know that for AND gate it only outputs \"true\" when both inputs are true and OR gate outputs \"true\" when at least one input is \"true\". \n",
    "        - To improve I will fully understand logic gates/boolean expressions and do practice on predicting the different inputs and outputs that will occur when using them.\n",
    "- Q31. C is correct as the first program makes the robot rotate left or right not move left or right\n",
    "        - I misread the ROTATE_LEFT/ROTATE_RIGHT codes as moving left or right causing me to think that Program I doesn't correctly move the robot to the gray square\n",
    "        - To improve I will read carefully and ensure I understand the lines of code before answering \n",
    "- Q37. C is correct as the code for segment one has the arithmetic operation inside the loop not outside for it to be performed only once\n",
    "        - I didn't understand that the box in the middle was a loop, so I didn't know that the arithmetic operation within was being repeated every time.\n",
    "        - To improve I will recognize which boxes are loops meaning that the code within is constantly running, not just running once. \n",
    "- Q42. two to the power of 128 divided by two to the power of 32 is two to the power of 96\n",
    "        - I didn't know what binary numbers were, so I didn't know that \"128-bit binary number\" meant two to the power of 128 possible addresses\n",
    "        - To improve I will practice more problems on binary numbers and understand that whatever number bit binary number means two to the power of that number bit possible addresses\n",
    "- Q43. A is correct as the number of steps of the algorithm is polynomial so it runs in reasonable time\n",
    "        - I didn't see that the number of steps is a polynomial and the pattern that for a list of n items there are n^2 steps. I also didn't know that algorithms run in reasonable time when the number of steps is equal to a polynomial function of the size of the input. \n",
    "        - To improve I will work on more practice problems dealing with algorithm efficency and remember that it only runs in reasonable time if equal to or less than the polynomial function of the size of the input\n",
    "- Q44. B is correct with 4 bit integer representation only numbers 0-15 can be represented so anything above will result in overflow error\n",
    "        - I didn't know that 4 bits meant 4 bit integer representation which means 2^4 numbers can be represented. So the numbers that are above 15 is overflow error\n",
    "        - To improve I will work on questions with concepts of binary numbers, specifically about number representation. I will also understand what number representation is with  bits so I can know what values can be represented\n",
    "- Q45. C is correct NOT(P AND Q) will result in it being false when both P and Q are true\n",
    "        - I didn't know what NAND gate is, not understanding that it is an AND gate followed by a NOT gate. So the output of the AND gate will be inverted. My answer wouldn't work because the expression is false when the P and Q differ in value, not when they are both \"true\".\n",
    "        - To improve I will fully understand the types of logic gates and understand how boolean expressions work, understanding the importance of order when it comes to boolean expressions. \n",
    "- Q46. D is correct as an undecidable problem is when no algorithm can constructed that leads to a correct yes or no answer\n",
    "        - I didn't know what an undecidable problem is, which is a problem that can't be solved by any algorithm with infinite time because they are decision problems requiring a yes or no answer. \n",
    "        - To improve I will try to fully understand undecidable problems and practice more questions around it to ensure my understanding.\n",
    "- Q47. D is correct because in public cryptography it is always decrypted with the recipient's private key\n",
    "        - I didn't understand how public key cryptography worked, not knowing public and private key is used. \n",
    "        - To improve I will practice problems basing on the concept of Safe Computing and understanding public key cryptography, how data is decrypted and encrypted\n",
    "- Q48. D is correct as it produces a result from 1 to 75 which is 75% of the time\n",
    "        - I put D as the answer first then second guessed myself and changed my answer, understanding that numbers between 1-75 would be 75% of the time\n",
    "        - To improve I will keep the answer I choose first and be confident in it, only changing the answer if I am a sure that the answer is wrong.\n",
    "- Q50. B is correct as the procedure is linear search as it sequentially compares each element of the list with the target\n",
    "        - I got the question wrong because I didn't know what linear and binary search, which are two algorithms to finding an item in a data set. Linear is searching one by one from beginning to end while binary is by repeatedly dividing in half the portion of the list that coudl contain the item to narrow down the possible locations.\n",
    "        - To improve I will fully understand binary and linear search and how it works, then work on questions with the concept of Lists\n",
    "- Q51. B is correct as the secret key is used for both encryption and decryption of the message\n",
    "        - I didn't know what symmetric encryption was, which is when the same key is used to encrypt and decrypt data. \n",
    "        - To improve I will work on questions about safe computing and understand symmetric/asymmetric encryption fully.\n",
    "- Q55. D is correct becuase user can't put both y and yes so it will always be false\n",
    "        - I looked over the code where the response must be \"y' and \"yes\" which is impossible when the user is expected to only put one of the responses in. \n",
    "        - To improve I will thoroughly read the code and ensure that I understand what every line is and what it requires/does\n",
    "- Q56. D is correct as it counts by odd integer and the loop iterates 10 times\n",
    "        - I didn't try to write out how the code worked so I wasn't sure if it was even or odd integers. \n",
    "        - To improve next time I get questions about Iteration and loops I will try to write out how the code works in order to understand it\n",
    "- Q60. A is correct too Replacing repeated code with a call to a procedure makes it easier for a programmer\n",
    "        - Shorter variable names does not reduce complexity it would only be reduced if meaningful varibale names were used\n",
    "        - To improve I should consider what would reduce complexity and what makes more sense\n",
    "- Q65. B is correct too as the condition count = y will never be met since the count begins at 0 and repeatedly increases."
   ]
  },
  {
   "cell_type": "markdown",
   "metadata": {},
   "source": [
    "## Analytics\n",
    "0% - 3.10 Lists and 3.18 Undecidable Problems -> In order to improve I will revisit the foundational concepts and definitions to ensure I understand them thoroughly. I will review where I went wrong in the questions, focus on learning reduction techniques for undecidable problems, and practice analyzing list operations and their complexities. Additionally, I’ll work on more practice MCQs, seek clarification on confusing topics, and reinforce my learning through examples and practical applications.\n",
    "\n",
    "25% and 33% - 3.9 Developing Algorithms, 3.5 Boolean Expressions, 5.6 Safe Computing -> In order to improve I will revisit the core principles and logic for each topic. For boolean expressions, I’ll practice truth tables, simplifications, and common laws like De Morgan’s. For developing algorithms, I will focus on understanding problem requirements, breaking them into smaller steps, and analyzing time and space complexity. For safe computing, I will review security best practices, such as recognizing phishing attempts, creating strong passwords, and understanding basic cybersecurity principles.\n",
    "\n",
    "50% - 2.1 Binary Numbers, 3.6 Conditionals, 3.8 Iteration, 3.13 Developing Procedures, 3.15 Random Values, 3.17 Algorithmic Efficiency, 3.12 Calling Procedures -> I will revisit the core concepts for each. I’ll practice binary conversions, logical flow in conditionals, and loop behavior. I’ll focus on writing modular procedures, generating and using random values, analyzing algorithms with Big-O notation, and understanding function calls. \n",
    "\n",
    "60% and 75% - 1.4 Identifying and Correcting Errors, 1.3 Program Design and Development ->I will focus on reviewing debugging techniques, understanding common error patterns, and practicing how to trace code step-by-step to find issues. For program design, I’ll revisit key principles like breaking problems into smaller tasks, planning algorithms, and writing pseudocode.\n",
    "\n"
   ]
  }
 ],
 "metadata": {
  "language_info": {
   "name": "python"
  }
 },
 "nbformat": 4,
 "nbformat_minor": 2
}
