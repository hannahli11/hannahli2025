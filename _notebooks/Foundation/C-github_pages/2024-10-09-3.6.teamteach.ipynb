{
 "cells": [
  {
   "cell_type": "markdown",
   "metadata": {},
   "source": [
    "## 3.6.1 Homework Hack"
   ]
  },
  {
   "cell_type": "code",
   "execution_count": 4,
   "metadata": {},
   "outputs": [
    {
     "name": "stdout",
     "output_type": "stream",
     "text": [
      "It's a warm day\n"
     ]
    }
   ],
   "source": [
    "# Step 1: Add a variable that represents temperature\n",
    "temperature = 66  # You can change this value to test different conditions\n",
    "\n",
    "# Step 2: Check if it’s a hot day\n",
    "if temperature >= 80:\n",
    "    print(\"It's a hot day\")\n",
    "# Step 3: Else if it's a warm day\n",
    "elif 60 <= temperature <= 79:\n",
    "    print(\"It's a warm day\")\n",
    "# Step 4: Otherwise, print it's a cold day\n",
    "else:\n",
    "    print(\"It's a cold day\")\n"
   ]
  },
  {
   "cell_type": "markdown",
   "metadata": {},
   "source": [
    "## 3.6.2 Popcorn Hack"
   ]
  },
  {
   "cell_type": "code",
   "execution_count": 12,
   "metadata": {
    "vscode": {
     "languageId": "javascript"
    }
   },
   "outputs": [
    {
     "data": {
      "application/javascript": "let score = 85;\n\nif (score >= 60) {\n    console.log(\"You passed!\");\n}\nelse: \n    console.log(\"You didn't pass.\")\n",
      "text/plain": [
       "<IPython.core.display.Javascript object>"
      ]
     },
     "metadata": {},
     "output_type": "display_data"
    }
   ],
   "source": [
    "%%js \n",
    "let score = 30;\n",
    "\n",
    "if (score >= 60) {\n",
    "    console.log(\"You passed!\");\n",
    "} else {\n",
    "    console.log(\"You didn't pass.\");\n",
    "}"
   ]
  },
  {
   "cell_type": "markdown",
   "metadata": {},
   "source": [
    "## 3.6.3 Homework:"
   ]
  },
  {
   "cell_type": "markdown",
   "metadata": {},
   "source": [
    "### Hack 1"
   ]
  },
  {
   "cell_type": "code",
   "execution_count": 27,
   "metadata": {},
   "outputs": [
    {
     "name": "stdout",
     "output_type": "stream",
     "text": [
      "Odd\n",
      "None\n",
      "Even\n",
      "None\n"
     ]
    }
   ],
   "source": [
    "def check_odd_even(number): \n",
    "\n",
    "    if number % 2 == 0:\n",
    "        print(\"Even\")\n",
    "    else:\n",
    "        print(\"Odd\")\n",
    "\n",
    "print(check_odd_even(7))\n",
    "print(check_odd_even(10))\n"
   ]
  },
  {
   "cell_type": "markdown",
   "metadata": {},
   "source": [
    "### Hack 2"
   ]
  },
  {
   "cell_type": "code",
   "execution_count": 29,
   "metadata": {},
   "outputs": [
    {
     "name": "stdout",
     "output_type": "stream",
     "text": [
      "Leap Year\n",
      "None\n",
      "Not a Leap Year\n",
      "None\n"
     ]
    }
   ],
   "source": [
    "def is_leap_year(year):\n",
    "\n",
    "    if (year % 400 == 0) or (year % 4 == 0 and year % 100 != 0):\n",
    "        print(\"Leap Year\")\n",
    "    else:\n",
    "        print(\"Not a Leap Year\")\n",
    "\n",
    "print(is_leap_year(2020))\n",
    "print(is_leap_year(2013))"
   ]
  },
  {
   "cell_type": "markdown",
   "metadata": {},
   "source": [
    "### Hack 3"
   ]
  },
  {
   "cell_type": "code",
   "execution_count": 33,
   "metadata": {},
   "outputs": [
    {
     "name": "stdout",
     "output_type": "stream",
     "text": [
      "Hot\n",
      "None\n",
      "Warm\n",
      "None\n"
     ]
    }
   ],
   "source": [
    "def temperature_range(temperature):\n",
    "    if temperature <= 60:\n",
    "        print(\"Cold\")\n",
    "    elif 60 <= temperature <= 80:\n",
    "        print(\"Warm\")\n",
    "    else:\n",
    "        print(\"Hot\")\n",
    "\n",
    "print(temperature_range(90))\n",
    "print(temperature_range(66))"
   ]
  },
  {
   "cell_type": "markdown",
   "metadata": {},
   "source": [
    "## 3.6.4 Homework Hacks"
   ]
  },
  {
   "cell_type": "markdown",
   "metadata": {},
   "source": [
    "### Hack 1:"
   ]
  },
  {
   "cell_type": "code",
   "execution_count": 34,
   "metadata": {
    "vscode": {
     "languageId": "javascript"
    }
   },
   "outputs": [
    {
     "data": {
      "application/javascript": "function checkVotingEligibility(age) {\n    if (age >= 18) {\n        return \"You are eligible to vote!\";\n    } else {\n        return \"You are not eligible to vote yet.\";\n    }\n}\n\nconsole.log(checkVotingEligibility(20));  \nconsole.log(checkVotingEligibility(16));\n",
      "text/plain": [
       "<IPython.core.display.Javascript object>"
      ]
     },
     "metadata": {},
     "output_type": "display_data"
    }
   ],
   "source": [
    "%%js \n",
    "function checkVotingEligibility(age) {\n",
    "    if (age >= 18) {\n",
    "        return \"You are eligible to vote!\";\n",
    "    } else {\n",
    "        return \"You are not eligible to vote yet.\";\n",
    "    }\n",
    "}\n",
    "\n",
    "console.log(checkVotingEligibility(20));  \n",
    "console.log(checkVotingEligibility(16));\n"
   ]
  },
  {
   "cell_type": "markdown",
   "metadata": {},
   "source": [
    "### Hack 2:"
   ]
  },
  {
   "cell_type": "code",
   "execution_count": null,
   "metadata": {
    "vscode": {
     "languageId": "javascript"
    }
   },
   "outputs": [],
   "source": [
    "%%js \n",
    "function getGrade(score) {\n",
    "    if (score >= 90) {\n",
    "        return \"Grade: A\";\n",
    "    } else if (score >= 80) {\n",
    "        return \"Grade: B\";\n",
    "    } else if (score >= 70) {\n",
    "        return \"Grade: C\";\n",
    "    } else {\n",
    "        return \"Grade: F\";\n",
    "    }\n",
    "}\n",
    "\n",
    "console.log(getGrade(95));  \n",
    "console.log(getGrade(85)); "
   ]
  },
  {
   "cell_type": "markdown",
   "metadata": {},
   "source": [
    "### Hack 3:"
   ]
  },
  {
   "cell_type": "code",
   "execution_count": null,
   "metadata": {
    "vscode": {
     "languageId": "javascript"
    }
   },
   "outputs": [],
   "source": [
    "function convertTemperature(value,scale) {\n",
    "    if (scale === \"C\") {\n",
    "        let fahrenheit = (value * 9/5) + 32;\n",
    "        return fahrenheit + \"°F\"; \n",
    "    } else if (scale === \"F\") {\n",
    "        let celsius = (value-32) * 5/9;\n",
    "        return celsius.toFixed(2) + \"°C\";\n",
    "    } else {\n",
    "        return \"Error: Invalid scale. Use 'C' for Celsius or 'F' for Fahrenheit.\";\n",
    "    }\n",
    "}\n",
    "\n",
    "console.log(convertTemperature(30, \"C\"));  \n",
    "console.log(convertTemperature(86, \"F\"));  "
   ]
  }
 ],
 "metadata": {
  "kernelspec": {
   "display_name": "venv",
   "language": "python",
   "name": "python3"
  },
  "language_info": {
   "codemirror_mode": {
    "name": "ipython",
    "version": 3
   },
   "file_extension": ".py",
   "mimetype": "text/x-python",
   "name": "python",
   "nbconvert_exporter": "python",
   "pygments_lexer": "ipython3",
   "version": "3.12.3"
  }
 },
 "nbformat": 4,
 "nbformat_minor": 2
}
