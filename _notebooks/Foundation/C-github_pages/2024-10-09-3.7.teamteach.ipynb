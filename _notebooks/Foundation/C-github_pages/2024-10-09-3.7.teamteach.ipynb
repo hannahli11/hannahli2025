{
 "cells": [
  {
   "cell_type": "markdown",
   "metadata": {},
   "source": [
    "## 3.7.1 Popcorn Hack"
   ]
  },
  {
   "cell_type": "code",
   "execution_count": 4,
   "metadata": {},
   "outputs": [
    {
     "name": "stdout",
     "output_type": "stream",
     "text": [
      "The weather is sunny\n",
      "Your transportation is available\n",
      "Your boots are present\n",
      "You are ready to go hiking!\n"
     ]
    }
   ],
   "source": [
    "\n",
    "weather = \"sunny\"\n",
    "transportation = \"available\"\n",
    "boots = \"present\"\n",
    "location_determined = True\n",
    "\n",
    "print(\"The weather is \" + weather)\n",
    "print(\"Your transportation is \" + transportation)\n",
    "print(\"Your boots are \" + boots)\n",
    "\n",
    "\n",
    "if weather == \"sunny\":\n",
    "    if transportation == \"available\":\n",
    "        if boots == \"present\":\n",
    "            if location_determined:\n",
    "                print(\"You are ready to go hiking!\")\n",
    "        else:\n",
    "            print(\"You need to find your boots first.\")\n",
    "    else:\n",
    "        print(\"You need to arrange transportation.\")\n",
    "else:\n",
    "    print(\"It's not good weather for hiking.\")\n"
   ]
  },
  {
   "cell_type": "markdown",
   "metadata": {},
   "source": [
    "## 3.7.2 Popcorn Hack"
   ]
  },
  {
   "cell_type": "code",
   "execution_count": 5,
   "metadata": {
    "vscode": {
     "languageId": "javascript"
    }
   },
   "outputs": [
    {
     "data": {
      "application/javascript": "\nlet weather = \"sunny\";\nlet transportation = \"available\";\nlet boots = \"not present\";\nlet location_determined = \"True\"\n\nconsole.log(\"The weather is \" + weather);\nconsole.log(\"Your transportation is \" + transportation);\nconsole.log(\"Your boots are \" + boots);\n\nif (weather === \"sunny\") {\n    if (transportation === \"available\") {\n        if (boots === \"present\") {\n            if (location_determined === \"True\"){\n            console.log(\"You are ready to go hiking!\");\n        } else {\n            console.log(\"You need to find your boots first.\");\n        }\n    } else {\n        console.log(\"You need to arrange transportation.\");\n    }\n} else {\n    console.log(\"It's not good weather for hiking.\");\n}\n",
      "text/plain": [
       "<IPython.core.display.Javascript object>"
      ]
     },
     "metadata": {},
     "output_type": "display_data"
    }
   ],
   "source": [
    "%%javascript\n",
    "\n",
    "let weather = \"sunny\";\n",
    "let transportation = \"available\";\n",
    "let boots = \"not present\";\n",
    "let location_determined = true;\n",
    "\n",
    "console.log(\"The weather is \" + weather);\n",
    "console.log(\"Your transportation is \" + transportation);\n",
    "console.log(\"Your boots are \" + boots);\n",
    "\n",
    "if (weather === \"sunny\") {\n",
    "    if (transportation === \"available\") {\n",
    "        if (boots === \"present\") {\n",
    "            if (location_determined) {\n",
    "                console.log(\"You are ready to go hiking!\");\n",
    "        } else {\n",
    "            console.log(\"You need to find your boots first.\");\n",
    "        }\n",
    "    } else {\n",
    "        console.log(\"You need to arrange transportation.\");\n",
    "    }\n",
    "} else {\n",
    "    console.log(\"It's not good weather for hiking.\");\n",
    "}\n"
   ]
  },
  {
   "cell_type": "markdown",
   "metadata": {},
   "source": [
    "## 3.7.3 Homework"
   ]
  },
  {
   "cell_type": "markdown",
   "metadata": {},
   "source": [
    "### Hack 1:"
   ]
  },
  {
   "cell_type": "code",
   "execution_count": 7,
   "metadata": {},
   "outputs": [
    {
     "name": "stdout",
     "output_type": "stream",
     "text": [
      "The weather is sunny\n",
      "Your sunscreen is packed\n",
      "Your snacks are enough\n",
      "You are ready for the beach!\n"
     ]
    }
   ],
   "source": [
    "# Pseudocode to decide if you should go to the beach\n",
    "\n",
    "# Check the conditions\n",
    "IF weather == \"sunny\":\n",
    "    \n",
    "    # Check if you have sunscreen\n",
    "    IF have_sunscreen == True:\n",
    "        \n",
    "        # Check if you have enough snacks\n",
    "        IF have_enough_snacks == True:\n",
    "            PRINT \"You are ready for the beach!\"\n",
    "        \n",
    "        # If you don't have enough snacks\n",
    "        ELSE:\n",
    "            PRINT \"You need to get more snacks before going to the beach.\"\n",
    "    \n",
    "    # If you don't have sunscreen\n",
    "    ELSE:\n",
    "        PRINT \"You need to buy sunscreen before going to the beach.\"\n",
    "\n",
    "# If the weather is not sunny\n",
    "ELSE:\n",
    "    PRINT \"It's not a good day for the beach.\"\n"
   ]
  },
  {
   "cell_type": "markdown",
   "metadata": {},
   "source": [
    "### Hack 2:"
   ]
  },
  {
   "cell_type": "code",
   "execution_count": null,
   "metadata": {},
   "outputs": [],
   "source": [
    "def check_adoption_eligibility(age, space, availability):\n",
    "    if age >= 18:\n",
    "        if space > 50:\n",
    "            if availability:\n",
    "                return \"You can adopt the pet!\"\n",
    "            else:\n",
    "                return \"You need to make time to take care of the pet.\"\n",
    "        else:\n",
    "            return \"You need a bigger home.\"\n",
    "    else:\n",
    "        return \"You must be at least 18 to adopt a pet.\"\n",
    "\n",
    "print(check_adoption_eligibility(17, 60, True))   \n",
    "print(check_adoption_eligibility(20, 45, True))   \n"
   ]
  },
  {
   "cell_type": "markdown",
   "metadata": {},
   "source": [
    "### Hack 3:"
   ]
  },
  {
   "cell_type": "code",
   "execution_count": null,
   "metadata": {},
   "outputs": [],
   "source": [
    "def check_marathon_readiness(weather, shoes, practice_days):\n",
    "    if weather == \"clear\"\n",
    "        if shoes == \"present\":\n",
    "            if practice_days >= 10:\n",
    "                print(\"You are ready for the marathon!\")\n",
    "            else:\n",
    "                print(\"You need to practice more.\")\n",
    "        else:\n",
    "            print(\"You need to buy shoes first.\")\n",
    "    else:\n",
    "        print(\"It's not the right time for the marathon.\")\n",
    "\n",
    "check_marathon_readiness(\"clear\", \"present\", 12)    \n",
    "check_marathon_readiness(\"clear\", \"absent\", 12)    "
   ]
  },
  {
   "cell_type": "markdown",
   "metadata": {},
   "source": [
    "## 3.7.4"
   ]
  },
  {
   "cell_type": "markdown",
   "metadata": {},
   "source": [
    "### Hack 1:"
   ]
  },
  {
   "cell_type": "code",
   "execution_count": null,
   "metadata": {
    "vscode": {
     "languageId": "javascript"
    }
   },
   "outputs": [],
   "source": [
    "// Pseudocode to decide if you should study for an exam\n",
    "\n",
    "// Check the conditions\n",
    "IF have_study_materials == true:\n",
    "\n",
    "    // Check if you have a quiet place to study\n",
    "    IF have_quiet_place == true:\n",
    "\n",
    "        // Check if you're feeling too tired\n",
    "        IF feeling_tired == false:\n",
    "            PRINT \"You are ready to study!\"\n",
    "\n",
    "        // If you're too tired\n",
    "        ELSE:\n",
    "            PRINT \"You should take a nap or rest before studying.\"\n",
    "\n",
    "    // If you don't have a quiet place to study\n",
    "    ELSE:\n",
    "        PRINT \"You need to find a quiet location before studying.\"\n",
    "\n",
    "// If you don't have your study materials\n",
    "ELSE:\n",
    "    PRINT \"You need to gather your study materials first.\"\n"
   ]
  },
  {
   "cell_type": "markdown",
   "metadata": {},
   "source": [
    "### Hack 2:"
   ]
  },
  {
   "cell_type": "code",
   "execution_count": null,
   "metadata": {
    "vscode": {
     "languageId": "javascript"
    }
   },
   "outputs": [],
   "source": [
    "%%js \n",
    "function startBaking(allIngredients, ovenWorking, bakeCoolTime) {\n",
    "    if (allIngredients) {\n",
    "        if (ovenWorking) {\n",
    "            if (bakeCoolTime >= 2) {\n",
    "                console.log(\"You can start baking!\");\n",
    "            } else {\n",
    "                console.log(\"You need to find more time.\");\n",
    "            }\n",
    "        } else {\n",
    "            console.log(\"You need to fix or replace the oven.\");\n",
    "        }\n",
    "    } else {\n",
    "        console.log(\"You need to gather all the ingredients.\");\n",
    "    }\n",
    "}\n",
    "\n",
    "startBaking(true, true, 3);  \n",
    "startBaking(true, false, 1); \n"
   ]
  },
  {
   "cell_type": "markdown",
   "metadata": {},
   "source": [
    "### Hack 3:"
   ]
  },
  {
   "cell_type": "code",
   "execution_count": null,
   "metadata": {
    "vscode": {
     "languageId": "javascript"
    }
   },
   "outputs": [],
   "source": [
    "%%javascript\n",
    "\n",
    "let weather = \"clear\";\n",
    "let tent = \"packed\";\n",
    "let food_water = \"enough\";\n",
    "\n",
    "console.log(\"The weather is \" + weather);\n",
    "console.log(\"Your tent is \" + tent);\n",
    "console.log(\"Your food and water supply is \" + food_water);\n",
    "\n",
    "if (tent === \"packed\") {\n",
    "    if (food_water === \"enough\") {\n",
    "        if (weather === \"clear\") {\n",
    "                console.log(\"You are ready to go camping!\");\n",
    "        } else {\n",
    "            console.log(\"You need to buy or borrow a tent.\");\n",
    "        }\n",
    "    } else {\n",
    "        console.log(\"You need to pack more.\");\n",
    "    }\n",
    "} else {\n",
    "    console.log(\"It's not a good time to go camping.\");\n",
    "}\n",
    "\n"
   ]
  }
 ],
 "metadata": {
  "kernelspec": {
   "display_name": "venv",
   "language": "python",
   "name": "python3"
  },
  "language_info": {
   "codemirror_mode": {
    "name": "ipython",
    "version": 3
   },
   "file_extension": ".py",
   "mimetype": "text/x-python",
   "name": "python",
   "nbconvert_exporter": "python",
   "pygments_lexer": "ipython3",
   "version": "3.12.3"
  }
 },
 "nbformat": 4,
 "nbformat_minor": 2
}
