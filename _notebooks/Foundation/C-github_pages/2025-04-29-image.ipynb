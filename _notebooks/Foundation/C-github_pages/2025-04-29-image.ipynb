{
 "cells": [
  {
   "cell_type": "markdown",
   "metadata": {},
   "source": [
    "---\n",
    "toc: true\n",
    "comments: false\n",
    "layout: post\n",
    "title: Digital Image\n",
    "description: Popcorn and homework hacks\n",
    "type: ccc\n",
    "---"
   ]
  },
  {
   "cell_type": "markdown",
   "metadata": {},
   "source": [
    "# Popcorn Hack 1\n",
    "- PNG file"
   ]
  },
  {
   "cell_type": "markdown",
   "metadata": {},
   "source": [
    "# Popcorn Hack 2\n",
    "- It increases the size of data which can lead to slower performance"
   ]
  },
  {
   "cell_type": "markdown",
   "metadata": {},
   "source": [
    "# Homework Hack\n",
    "In your notebook, explain the following, along with one application to YOUR work:\n",
    "– What is a hex color code? What are some examples?\n",
    "A hex color code is a 6-digit code starting with # that represents a color using red, green, and blue values in hexadecimal format.\n",
    "– What is Base64 and how is it used with images?\n",
    "Base64 is a way to convert image files into plain text so they can be embedded directly into HTML or CSS using data:image/... format.\n",
    "– Why might you use Base64 instead of a regular image file?\n",
    "It reduces the need for external files and extra requests—good for small images or quick sharing—but makes file size slightly larger.\n",
    "\n",
    "<br><img alt=\"selection\" src=\"/hannahli2025/images/pig.png\">\n",
    "- When using a regular image (pig.png), Jupyter loads the image from the file system and renders it as part of the output. If using Base64, the image data is already embedded in the notebook and will display without relying on external files.\n",
    "\n"
   ]
  }
 ],
 "metadata": {
  "language_info": {
   "name": "python"
  }
 },
 "nbformat": 4,
 "nbformat_minor": 2
}
