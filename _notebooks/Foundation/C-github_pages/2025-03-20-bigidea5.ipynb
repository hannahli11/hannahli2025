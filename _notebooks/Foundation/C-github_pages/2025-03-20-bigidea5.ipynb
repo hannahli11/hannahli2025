{
 "cells": [
  {
   "cell_type": "markdown",
   "metadata": {},
   "source": [
    "---\n",
    "toc: true\n",
    "comments: false\n",
    "layout: post\n",
    "title: Benefical and Harmful Effects Hacks\n",
    "description: Homework and Hacks\n",
    "type: ccc\n",
    "---"
   ]
  },
  {
   "cell_type": "markdown",
   "metadata": {},
   "source": [
    "# Popcorn Hack 1\n",
    "- Positive: Technological innovations impact society by improving communication. The rise of smartphones and the internet has made it easier for people to connect instantly across the world. Social media platforms, video conferencing, and instant messaging help businesses, families, and friends stay in touch, fostering global collaboration and relationships.\n",
    "- Negative: It can also contribute to social isolation and mental health issues. People may spend excessive time on screens, leading to decreased face-to-face interactions and increased feelings of loneliness or anxiety, especially among younger generations."
   ]
  },
  {
   "cell_type": "markdown",
   "metadata": {},
   "source": [
    "# Popcorn Hack 2\n",
    "- The meaning of negative effects of technology is the harmful consequences that come with using technology. We can use responsible programming to prevent such negative effects such as protecting private informtaion, ensuring human protection, and setting restrictions. "
   ]
  },
  {
   "cell_type": "markdown",
   "metadata": {},
   "source": [
    "# Popcorn Hack 3\n",
    "- By recognizing these effects, we can encourage ethical tech design, promote mindful usage, and protect overall well-being. Balancing innovation with awareness ensures technology enhances life rather than controls it."
   ]
  },
  {
   "cell_type": "markdown",
   "metadata": {},
   "source": [
    "# Homework Hack 1\n"
   ]
  }
 ],
 "metadata": {
  "language_info": {
   "name": "python"
  }
 },
 "nbformat": 4,
 "nbformat_minor": 2
}
