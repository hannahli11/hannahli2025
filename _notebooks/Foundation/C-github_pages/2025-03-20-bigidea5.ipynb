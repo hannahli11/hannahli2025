{
 "cells": [
  {
   "cell_type": "markdown",
   "metadata": {},
   "source": [
    "---\n",
    "toc: true\n",
    "comments: false\n",
    "layout: post\n",
    "title: Benefical and Harmful Effects Hacks\n",
    "description: Homework and Hacks\n",
    "type: ccc\n",
    "---"
   ]
  },
  {
   "cell_type": "markdown",
   "metadata": {},
   "source": [
    "# Popcorn Hack 1\n",
    "- Positive: Technological innovations impact society by improving communication. The popularity of smartphones and the internet has made it easier for people to connect instantly across the world. Social media platforms, families, and friends stay in touch, creating global collaboration and relationships.\n",
    "- Negative: It can also contribute to social isolation and mental health issues. People may spend excessive time on screens, leading to decreased in person interactions and increased loneliness or anxiety, especially among younger poeple."
   ]
  },
  {
   "cell_type": "markdown",
   "metadata": {},
   "source": [
    "# Popcorn Hack 2\n",
    "- The meaning of negative effects of technology is the harmful consequences that come with using technology. We can use responsible programming to prevent such negative effects such as protecting private informtaion, ensuring human protection, and setting restrictions. "
   ]
  },
  {
   "cell_type": "markdown",
   "metadata": {},
   "source": [
    "# Popcorn Hack 3\n",
    "- By recognizing these effects, we can encourage ethical tech design, promote mindful usage, and protect overall well-being. This awareness ensures technology enhances life rather than controls it. "
   ]
  },
  {
   "cell_type": "markdown",
   "metadata": {},
   "source": [
    "# Homework Hack 1\n",
    "Topic: Facial Recognition\n",
    "-Original Intended Use:\n",
    "Facial recognition was originally developed for security and authentication purposes. It is widely used for unlocking smartphones, verifying identities at airports, and enhancing surveillance systems for law enforcement. The primary goal was to improve security and efficiency in identity verification.\n",
    "\n",
    "- New Use Case:\n",
    "Facial recognition could be used in healthcare to monitor patients' emotional well-being. Hospitals and mental health clinics could use AI facial analysis to detect signs of depression, anxiety, or distress in patients. This would help doctors and therapists provide better care by identifying individuals who need immediate attention when they won't verbally say it themselves.\n",
    "\n",
    "\n",
    "- Benefits: AI could identify emotional distress in patients who might not openly express their feelings, leading to earlier intervention and treatment. Hospitals could use facial recognition to monitor patients, detecting pain or discomfort that is more accurate.\n",
    "\n",
    "- Risks: Continuous monitoring and facial data collection could raise ethical concerns about patient privacy and consent. AI can misread facial expressions, leading to false alarms or overlooking real distress,  affecting patient care."
   ]
  },
  {
   "cell_type": "markdown",
   "metadata": {},
   "source": [
    "# Homework Hack #2\n",
    "Problem: AI Misinformation\n",
    "Risk: AI tools, such as deepfake technology, can create highly convincing fake news articles, images, and videos. These AI-generated materials can spread misinformation, manipulate public opinion, and damage reputations. This is particularly dangerous in important events like elections or crises where false information can lead to confusion, panic, or distrust in legitimate sources.\n",
    "\n",
    "Proposed Solutions: \n",
    "1. We can use AI against it to detect deepfakes and AI generated content, or using digital watermarks on AI created pieces to authenticate it. \n",
    "2. A program can also be created to cross reference reliable sources with AI generated content to prevent the spread of false information. \n",
    "\n",
    "Reflection: Ethical AI development is important to maintaining trust in digital information. If AI-generated misinformation is left unchecked, it can harm individuals, disrupt societies, and weaken democracy. By designing AI with safeguards, transparency, and accountability, we can increase its benefits while reducing its risks. Technology should enhance truth and knowledge, not distort them. \n"
   ]
  }
 ],
 "metadata": {
  "language_info": {
   "name": "python"
  }
 },
 "nbformat": 4,
 "nbformat_minor": 2
}
