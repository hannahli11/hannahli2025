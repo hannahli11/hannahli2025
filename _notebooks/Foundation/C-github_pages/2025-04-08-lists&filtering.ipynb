{
 "cells": [
  {
   "cell_type": "markdown",
   "metadata": {},
   "source": [
    "---\n",
    "toc: true\n",
    "comments: false\n",
    "layout: post\n",
    "title: Lists and Filtering Algorithms\n",
    "description: Homework and Hacks\n",
    "type: ccc\n",
    "---"
   ]
  },
  {
   "cell_type": "markdown",
   "metadata": {},
   "source": [
    "# Popcorn Hacks\n",
    "1. "
   ]
  },
  {
   "cell_type": "code",
   "execution_count": null,
   "metadata": {},
   "outputs": [],
   "source": [
    "movies = [\"Shawshank Redemption\", \"La La Land\", \"Infinity War\", \"Zootopia\"]\n",
    "\n",
    "movies[1] = \"How to Train Your Dragon\"\n",
    "\n",
    "movies.append(\"Spider-Man: Into the Spider-Verse\")\n",
    "\n",
    "print(movies)\n"
   ]
  },
  {
   "cell_type": "markdown",
   "metadata": {},
   "source": [
    "2. "
   ]
  },
  {
   "cell_type": "code",
   "execution_count": null,
   "metadata": {},
   "outputs": [],
   "source": [
    "ages = [15, 20, 34, 16, 18, 21, 14, 19]\n",
    "\n",
    "voting_ages = [age for age in ages if age >= 18]\n",
    "\n",
    "print(voting_ages)"
   ]
  },
  {
   "cell_type": "markdown",
   "metadata": {},
   "source": [
    "# Homework Hacks\n",
    "1. Video 1 Notes:\n",
    "-  When creating a list, you can also prepopulate it with values\n",
    "- Lists preserve the order of data, for sets order isn't important\n",
    "- At the beginnning, the first value is the index=0\n",
    "Video 2 Notes:\n",
    "-  A list comphrehension is an easier and more readable way to create a list\n",
    "- List comphrehensions are in for loops\n",
    "- n*n for n in nums is typically used"
   ]
  },
  {
   "cell_type": "markdown",
   "metadata": {},
   "source": [
    "2. "
   ]
  },
  {
   "cell_type": "code",
   "execution_count": 1,
   "metadata": {},
   "outputs": [
    {
     "name": "stdout",
     "output_type": "stream",
     "text": [
      "Original List (1 to 30):\n",
      "[1, 2, 3, 4, 5, 6, 7, 8, 9, 10, 11, 12, 13, 14, 15, 16, 17, 18, 19, 20, 21, 22, 23, 24, 25, 26, 27, 28, 29, 30]\n",
      "\n",
      "Filtered List (Divisible by 3 but NOT by 5):\n",
      "[3, 6, 9, 12, 18, 21, 24, 27]\n"
     ]
    }
   ],
   "source": [
    "# Initialize a list with numbers from 1 to 30\n",
    "original_list = list(range(1, 31))\n",
    "\n",
    "# Filter numbers divisible by 3 but not by 5\n",
    "filtered_list = [num for num in original_list if num % 3 == 0 and num % 5 != 0]\n",
    "\n",
    "# Print the results\n",
    "print(\"Original List (1 to 30):\")\n",
    "print(original_list)\n",
    "\n",
    "print(\"\\nFiltered List (Divisible by 3 but NOT by 5):\")\n",
    "print(filtered_list)\n"
   ]
  },
  {
   "cell_type": "markdown",
   "metadata": {},
   "source": [
    "3. "
   ]
  },
  {
   "cell_type": "code",
   "execution_count": 7,
   "metadata": {},
   "outputs": [
    {
     "name": "stdout",
     "output_type": "stream",
     "text": [
      "           Country        Artist                    Album      Genre  \\\n",
      "0          Germany  Taylor Swift  1989 (Taylor's Version)      K-pop   \n",
      "1           Brazil    The Weeknd              After Hours        R&B   \n",
      "2    United States   Post Malone                   Austin  Reggaeton   \n",
      "3            Italy    Ed Sheeran        Autumn Variations      K-pop   \n",
      "4            Italy    Ed Sheeran        Autumn Variations        R&B   \n",
      "..             ...           ...                      ...        ...   \n",
      "495         Brazil       Karol G       MAÑANA SERÁ BONITO       Jazz   \n",
      "496         Canada      Dua Lipa         Future Nostalgia  Classical   \n",
      "497        Germany       Karol G       MAÑANA SERÁ BONITO       Rock   \n",
      "498         Canada           SZA                      SOS      Indie   \n",
      "499         Sweden           BTS                    Proof  Reggaeton   \n",
      "\n",
      "     Release Year  Monthly Listeners (Millions)  Total Streams (Millions)  \\\n",
      "0            2019                         23.10                   3695.53   \n",
      "1            2022                         60.60                   2828.16   \n",
      "2            2023                         42.84                   1425.46   \n",
      "3            2018                         73.24                   2704.33   \n",
      "4            2023                          7.89                   3323.25   \n",
      "..            ...                           ...                       ...   \n",
      "495          2018                         18.80                   2947.97   \n",
      "496          2023                         89.68                   4418.61   \n",
      "497          2023                         36.93                   2642.90   \n",
      "498          2022                         87.26                   4320.23   \n",
      "499          2018                         89.96                   4804.15   \n",
      "\n",
      "     Total Hours Streamed (Millions)  Avg Stream Duration (Min) Platform Type  \\\n",
      "0                           14240.35                       4.28          Free   \n",
      "1                           11120.44                       3.90       Premium   \n",
      "2                            4177.49                       4.03          Free   \n",
      "3                           12024.08                       3.26       Premium   \n",
      "4                           13446.32                       4.47          Free   \n",
      "..                               ...                        ...           ...   \n",
      "495                         12642.83                       3.59       Premium   \n",
      "496                         11843.46                       3.15          Free   \n",
      "497                          8637.46                       4.08          Free   \n",
      "498                         12201.40                       2.79          Free   \n",
      "499                         12044.32                       4.03          Free   \n",
      "\n",
      "     Streams Last 30 Days (Millions)  Skip Rate (%)  \n",
      "0                             118.51           2.24  \n",
      "1                              44.87          23.98  \n",
      "2                              19.46           4.77  \n",
      "3                             166.05          25.12  \n",
      "4                             173.43          15.82  \n",
      "..                               ...            ...  \n",
      "495                            83.30          18.58  \n",
      "496                           143.96           5.82  \n",
      "497                            76.36          15.84  \n",
      "498                            84.50          13.07  \n",
      "499                            92.27          34.36  \n",
      "\n",
      "[500 rows x 12 columns]\n"
     ]
    }
   ],
   "source": [
    "import pandas as pd\n",
    "\n",
    "def filter_spotify_data(file_path):\n",
    "    # Read the data from the CSV file\n",
    "    data = pd.read_csv(file_path)\n",
    "    \n",
    "    # Filter the data to only include songs with over 10 million total streams\n",
    "    filtered_data = data[data['Total Streams (Millions)'] > 10]\n",
    "    \n",
    "    # Display the filtered data\n",
    "    print(filtered_data)\n",
    "\n",
    "# File path for your CSV file\n",
    "file_path = 'Spotify_2024_Global_Streaming_Data.csv'\n",
    "\n",
    "# Call the function to filter and display the data\n",
    "filter_spotify_data(file_path)\n"
   ]
  },
  {
   "cell_type": "markdown",
   "metadata": {},
   "source": [
    "# Review Questions\n",
    "1. Lists are ordered collections that can hold elements of any data type. They are defined using square brackets [] and allow for easy access, modification, and manipulation of elements. In lists you can add, remove, or change items, and indexed, meaning each element has a specific position starting from 0. You can modify lists using various methods like append() to add an item, insert() to add at a specific index, and remove() to delete an item. Lists can also be accessed via indexing and slicing to retrieve specific elements or ranges. You can loop through lists with a for loop and use list comprehensions to create or modify lists in a concise way.\n",
    "\n",
    "2. A real-world scenario for a filtering algorithm might be in an e-commerce website, where you filter products based on price range, category, and rating. For example, a filter might display only items priced between $20 and $100 with a rating of 4 stars or higher, improving the user’s shopping experience.\n",
    "\n",
    "3. Analyzing the efficiency of filtering algorithms is important for performance and scalability. Inefficient algorithms can slow down applications, especially when dealing with large datasets. They also affect resource usage, potentially increasing costs. An optimized filtering algorithm enhances user experience by providing faster results and ensures the system remains responsive under load."
   ]
  }
 ],
 "metadata": {
  "kernelspec": {
   "display_name": "venv",
   "language": "python",
   "name": "python3"
  },
  "language_info": {
   "codemirror_mode": {
    "name": "ipython",
    "version": 3
   },
   "file_extension": ".py",
   "mimetype": "text/x-python",
   "name": "python",
   "nbconvert_exporter": "python",
   "pygments_lexer": "ipython3",
   "version": "3.13.2"
  }
 },
 "nbformat": 4,
 "nbformat_minor": 2
}
