{
 "cells": [
  {
   "cell_type": "markdown",
   "metadata": {},
   "source": [
    "---\n",
    "layout: post\n",
    "title: CS Panel Reflection\n",
    "description: Reflection from CS Panel\n",
    "permalink: /cspanelreflection/\n",
    "comments: true\n",
    "---"
   ]
  },
  {
   "cell_type": "markdown",
   "metadata": {},
   "source": [
    "## Notes from the Panel\n",
    "- Know how you code works, understand everything, doesn’t matter if code works or not \n",
    "summarize what you talking abt \n",
    "- Say what you have achieved, be direct, clear and concise\n",
    "- Flowcharts are a big part of communicating your ideas\n",
    "- Be organized with github\n",
    "- Find connection with people who can help you\n",
    "- Research the colleges resources that they offer for your major \n",
    "- Cold emailing professors to do research and gain experience \n",
    "- Have a portfolio for every project and everything you have done on linkedin\n",
    "- Personal websites about yourself \n",
    "- Attend career fairs to show interest and learn more about companies and allow them to acknowledge you\n"
   ]
  },
  {
   "cell_type": "markdown",
   "metadata": {},
   "source": [
    "## How I will Apply Tips and Tricks from CS Panel\n",
    "1. During live reviews and talking to peers I will ensure full understanding of my code whether it works or not for easy identification and fix of errors, allows others to know what to fix when helping, effective for collaboration, and to know what and why I am doing such work.\n",
    "2. When explaining what I have achieved with my code, I will be clear and concise in order to allow focus on essential part, save time, avoid miscommunication, and keep engagement \n",
    "3. When communicating ideas or trying to plan out projects I will try and use flowcharts to help map out the process to simplify problem solving, plan solutions, organization, fewer errors, and aids in debugging\n",
    "4. I will make meaningful connections to people who can help me in my future and be able to have access to amazing opportunities, gain more knowledge, have mentorship, and personal growth\n",
    "5. To gain experience and research experience I will cold email proffessors to improve technical and analytical skills, deepen understanding, develop critical thinking, and have collaboration abilities\n",
    "6. I will have a portfolio for all projects on linkedin in order to create connections and allow myself to have access to many networking opportunities through showcasing my skills, experience, credibility, and online presence"
   ]
  },
  {
   "cell_type": "markdown",
   "metadata": {},
   "source": [
    "<img alt=\"CSP panel\" src=\"/hannahli2025/images/cspanel.JPG\" width=\"500\" height=\"300\">  "
   ]
  },
  {
   "cell_type": "markdown",
   "metadata": {},
   "source": []
  }
 ],
 "metadata": {
  "language_info": {
   "name": "python"
  }
 },
 "nbformat": 4,
 "nbformat_minor": 2
}
