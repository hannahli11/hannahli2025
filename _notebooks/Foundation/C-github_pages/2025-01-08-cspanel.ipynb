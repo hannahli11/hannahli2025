{
 "cells": [
  {
   "cell_type": "markdown",
   "metadata": {},
   "source": [
    "---\n",
    "layout: post\n",
    "title: CS Panel Reflection\n",
    "description: Reflection from CS Panel\n",
    "permalink: /cspanelreflection/\n",
    "comments: true\n",
    "---"
   ]
  },
  {
   "cell_type": "markdown",
   "metadata": {},
   "source": [
    "## How the CS Panel is Applicable\n",
    "- During live reviews and talking to peers I will ensure full understanding of my code whether it works or not for easy identification and fix of errors, allows others to know what to fix when helping, effective for collaboration, and to know what and why I am doing such work.\n",
    "- When explaining what I have achieved with my code, I will be clear and concise in order to allow focus on essential part, save time, avoid miscommunication, and keep engagement \n",
    "- When communicating ideas or trying to plan out projects I will try and use flowcharts to help map out the process to simplify problem solving, plan solutions, organization, fewer errors, and aids in debugging\n",
    "- I will make meaningful connections to people who can help me in my future and be able to have access to amazing opportunities, gain more knowledge, have mentorship, and personal growth\n",
    "- To gain experience and research experience I will cold email proffessors to improve technical and analytical skills, deepen understanding, develop critical thinking, and have collaboration abilities\n",
    "- I will have a portfolio for all projects on linkedin in order to create connections and allow myself to have access to many opportunities through "
   ]
  }
 ],
 "metadata": {
  "language_info": {
   "name": "python"
  }
 },
 "nbformat": 4,
 "nbformat_minor": 2
}
