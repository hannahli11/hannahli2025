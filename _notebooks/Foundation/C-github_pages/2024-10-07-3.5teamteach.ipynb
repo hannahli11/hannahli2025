{
 "cells": [
  {
   "cell_type": "markdown",
   "metadata": {},
   "source": [
    "3.5.3 Popcorn hack 1 python:"
   ]
  },
  {
   "cell_type": "code",
   "execution_count": null,
   "metadata": {},
   "outputs": [],
   "source": [
    "def check_number(number):\n",
    "    if number < 0:\n",
    "        print(f\"{number} is negative.\")\n",
    "    else:\n",
    "        print(f\"{number} is non-negative.\")\n",
    "\n",
    "# Example usage\n",
    "check_number(-5)  # Output: -5 is negative.\n",
    "check_number(10)   # Output: 10 is non-negative.\n",
    "check_number(0)    # Output: 0 is non-negative."
   ]
  },
  {
   "cell_type": "markdown",
   "metadata": {},
   "source": [
    "Hack 2 Python:"
   ]
  },
  {
   "cell_type": "code",
   "execution_count": null,
   "metadata": {},
   "outputs": [],
   "source": [
    "def check_vowel(char):\n",
    "    if char.lower() in 'aeiou':\n",
    "        print(f\"{char} is a vowel.\")\n",
    "    else:\n",
    "        print(f\"{char} is not a vowel.\")\n",
    "\n",
    "# Example usage\n",
    "check_vowel('a')  # Output: a is a vowel.\n",
    "check_vowel('b')  # Output: b is not a vowel.\n",
    "check_vowel('E')  # Output: E is a vowel.\n",
    "check_vowel('y')  # Output: y is not a vowel.\n",
    "\n"
   ]
  },
  {
   "cell_type": "markdown",
   "metadata": {},
   "source": [
    "3.5.4 Hack 1 Javascript:\n",
    "\n"
   ]
  },
  {
   "cell_type": "code",
   "execution_count": null,
   "metadata": {
    "vscode": {
     "languageId": "javascript"
    }
   },
   "outputs": [],
   "source": [
    "%% js \n",
    "function checkEvenOrOdd(number) {\n",
    "    // Check if the number is an integer\n",
    "    if (Number.isInteger(number)) {\n",
    "        // Use the modulus operator to check if the number is even or odd\n",
    "        if (number % 2 === 0) {\n",
    "            console.log(`${number} is even.`);\n",
    "        } else {\n",
    "            console.log(`${number} is odd.`);\n",
    "        }\n",
    "    } else {\n",
    "        console.log(\"Please enter a valid integer.\");\n",
    "    }\n",
    "}\n",
    "\n",
    "// Example usage\n",
    "checkEvenOrOdd(4);   // Output: 4 is even.\n",
    "checkEvenOrOdd(7);   // Output: 7 is odd.\n",
    "checkEvenOrOdd(0);   // Output: 0 is even.\n",
    "checkEvenOrOdd(3.5); // Output: Please enter a valid integer."
   ]
  },
  {
   "cell_type": "markdown",
   "metadata": {},
   "source": [
    "3.5.3 Homework 1 Python:\n"
   ]
  },
  {
   "cell_type": "code",
   "execution_count": null,
   "metadata": {},
   "outputs": [],
   "source": [
    " def truth_table():\n",
    "    print(\"A\\tB\\tC\\tA AND (B OR NOT C)\")\n",
    "    print(\"-\" * 40)\n",
    "    for A in [True, False]:\n",
    "        for B in [True, False]:\n",
    "            for C in [True, False]:\n",
    "                result = A and (B or not C)\n",
    "                print(f\"{A}\\t{B}\\t{C}\\t{result}\")\n",
    "\n",
    "# Call the function to generate the truth table\n",
    "truth_table()\n",
    "\n"
   ]
  },
  {
   "cell_type": "markdown",
   "metadata": {
    "vscode": {
     "languageId": "javascript"
    }
   },
   "source": [
    "Homework 2:"
   ]
  },
  {
   "cell_type": "code",
   "execution_count": null,
   "metadata": {},
   "outputs": [],
   "source": [
    "def game_using_de_morgan():\n",
    "    print(\"Welcome to the De Morgan's Law Game!\")\n",
    "    print(\"Answer 'yes' or 'no' to the following questions:\")\n",
    "    \n",
    "    # Get user input\n",
    "    A = input(\"Is it sunny? (yes/no): \").strip().lower() == 'yes'\n",
    "    B = input(\"Is it a holiday? (yes/no): \").strip().lower() == 'yes'\n",
    "    \n",
    "    # Use De Morgan's Law to evaluate the answers\n",
    "    # We can represent the logic of 'not (A and B)' as 'not A or not B'\n",
    "    not_A = not A\n",
    "    not_B = not B\n",
    "    \n",
    "    simplified_logic = not_A or not_B  # This uses De Morgan's Law\n",
    "    \n",
    "    if simplified_logic:\n",
    "        print(\"It's either not sunny or it's not a holiday!\")\n",
    "    else:\n",
    "        print(\"It's both sunny and a holiday!\")\n",
    "\n",
    "# Call the game function\n",
    "game_using_de_morgan()\n",
    "\n"
   ]
  },
  {
   "cell_type": "markdown",
   "metadata": {},
   "source": [
    "3.5.4 Homework 1 Javascript:"
   ]
  },
  {
   "cell_type": "code",
   "execution_count": null,
   "metadata": {
    "vscode": {
     "languageId": "javascript"
    }
   },
   "outputs": [],
   "source": [
    "%% js \n",
    "3.5.4 Homework 1 Javascript:\n",
    "function isPasswordValid(password) {\n",
    "    const minLength = 10;\n",
    "    const specialCharacters = /[!@#$%^&*(),.?\":{}|<>]/;\n",
    "    \n",
    "    // Conditions\n",
    "    const hasUppercase = /[A-Z]/.test(password);\n",
    "    const hasLowercase = /[a-z]/.test(password);\n",
    "    const hasNumber = /[0-9]/.test(password);\n",
    "    const hasSpecialChar = specialCharacters.test(password);\n",
    "    const noSpaces = !/\\s/.test(password);\n",
    "    const maxRepeatedChars = !/(.)\\1{2,}/.test(password); // No more than 3 of the same letter in a row\n",
    "\n",
    "    // De Morgan's Law simplification\n",
    "    const isValid = password.length >= minLength &&\n",
    "        (hasUppercase && hasLowercase) && \n",
    "        hasNumber && \n",
    "        hasSpecialChar && \n",
    "        noSpaces && \n",
    "        maxRepeatedChars;\n",
    "\n",
    "    return isValid;\n",
    "}\n",
    "\n",
    "// Example usage\n",
    "const password = \"StrongPassword123!\";\n",
    "if (isPasswordValid(password)) {\n",
    "    console.log(\"Your password is valid.\");\n",
    "} else {\n",
    "    console.log(\"Your password does not meet the required criteria.\");\n",
    "}"
   ]
  },
  {
   "cell_type": "markdown",
   "metadata": {},
   "source": [
    "Homework 2 Javascript:"
   ]
  },
  {
   "cell_type": "code",
   "execution_count": null,
   "metadata": {
    "vscode": {
     "languageId": "javascript"
    }
   },
   "outputs": [],
   "source": [
    "%%js \n",
    "function personalityQuiz() {\n",
    "    let score = 0;\n",
    "\n",
    "    const questions = [\n",
    "        {\n",
    "            question: \"What's your favorite season?\",\n",
    "            options: [\"1. Winter\", \"2. Spring\", \"3. Summer\", \"4. Fall\"],\n",
    "            answerKey: [1, 2, 3, 4] // Corresponds to score allocation\n",
    "        },\n",
    "        {\n",
    "            question: \"How do you prefer to spend your free time?\",\n",
    "            options: [\"1. Reading\", \"2. Socializing\", \"3. Traveling\", \"4. Playing video games\"],\n",
    "            answerKey: [1, 2, 3, 4]\n",
    "        },\n",
    "        {\n",
    "            question: \"What type of movies do you like?\",\n",
    "            options: [\"1. Action\", \"2. Comedy\", \"3. Horror\", \"4. Documentary\"],\n",
    "            answerKey: [3, 2, 4, 1]\n",
    "        },\n",
    "        // Add more questions here\n",
    "    ];\n",
    "\n",
    "    // Loop through each question and collect user's answer\n",
    "    for (let i = 0; i < questions.length; i++) {\n",
    "        const q = questions[i];\n",
    "        console.log(q.question);\n",
    "        for (const option of q.options) {\n",
    "            console.log(option);\n",
    "        }\n",
    "        \n",
    "        let answer = parseInt(prompt(\"Choose your answer (1-4): \"));\n",
    "        if (answer >= 1 && answer <= 4) {\n",
    "            score += q.answerKey[answer - 1]; // Adds corresponding score based on user's answer\n",
    "        } else {\n",
    "            console.log(\"Invalid answer! Please enter a number between 1 and 4\n"
   ]
  }
 ],
 "metadata": {
  "language_info": {
   "name": "python"
  }
 },
 "nbformat": 4,
 "nbformat_minor": 2
}
