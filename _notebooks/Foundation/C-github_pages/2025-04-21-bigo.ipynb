{
 "cells": [
  {
   "cell_type": "markdown",
   "metadata": {},
   "source": [
    "---\n",
    "toc: true\n",
    "comments: false\n",
    "layout: post\n",
    "title: Big O Notation\n",
    "description: Homework and Hacks\n",
    "type: ccc\n",
    "---"
   ]
  },
  {
   "cell_type": "markdown",
   "metadata": {},
   "source": [
    "# Popcorn Hack 1"
   ]
  },
  {
   "cell_type": "code",
   "execution_count": 1,
   "metadata": {},
   "outputs": [
    {
     "name": "stdout",
     "output_type": "stream",
     "text": [
      "Third item (O(1)): 3\n",
      "All items (O(n)):\n",
      "1\n",
      "2\n",
      "3\n",
      "4\n",
      "5\n"
     ]
    }
   ],
   "source": [
    "arr = [1, 2, 3, 4, 5]\n",
    "\n",
    "# Constant time (O(1)) - directly accessing the 3rd item (index 2)\n",
    "print(\"Third item (O(1)):\", arr[2])\n",
    "\n",
    "# Linear time (O(n)) - printing all items using a loop\n",
    "print(\"All items (O(n)):\")\n",
    "for item in arr:\n",
    "    print(item)\n"
   ]
  },
  {
   "cell_type": "markdown",
   "metadata": {},
   "source": [
    "# Popcorn Hack 2"
   ]
  },
  {
   "cell_type": "code",
   "execution_count": 2,
   "metadata": {},
   "outputs": [
    {
     "name": "stdout",
     "output_type": "stream",
     "text": [
      "(1, 2)\n",
      "(1, 3)\n",
      "(2, 3)\n"
     ]
    }
   ],
   "source": [
    "def print_unique_pairs(arr):\n",
    "    n = len(arr)\n",
    "    for i in range(n):\n",
    "        for j in range(i + 1, n):\n",
    "            print(f\"({arr[i]}, {arr[j]})\")\n",
    "\n",
    "# Example usage\n",
    "arr = [1, 2, 3]\n",
    "print_unique_pairs(arr)\n"
   ]
  },
  {
   "cell_type": "markdown",
   "metadata": {},
   "source": [
    "The time complexity is O(n²) because it uses two nested loops to iterate through the array. For each element it pairs it with every following element, resulting in about n(n-1)/2 operations. This quadratic growth means the number of operations increases quickly as the array gets larger."
   ]
  },
  {
   "cell_type": "markdown",
   "metadata": {},
   "source": [
    "# Popcorn Hack 3\n",
    "B, C"
   ]
  },
  {
   "cell_type": "markdown",
   "metadata": {},
   "source": [
    "# Homework Hack"
   ]
  },
  {
   "cell_type": "code",
   "execution_count": 3,
   "metadata": {},
   "outputs": [
    {
     "name": "stdout",
     "output_type": "stream",
     "text": [
      "Constant time result: 5\n",
      "\n",
      "Linear time output:\n",
      "5\n",
      "10\n",
      "15\n",
      "20\n",
      "25\n",
      "\n",
      "Quadratic time output:\n",
      "(5, 5)\n",
      "(5, 10)\n",
      "(5, 15)\n",
      "(5, 20)\n",
      "(5, 25)\n",
      "(10, 5)\n",
      "(10, 10)\n",
      "(10, 15)\n",
      "(10, 20)\n",
      "(10, 25)\n",
      "(15, 5)\n",
      "(15, 10)\n",
      "(15, 15)\n",
      "(15, 20)\n",
      "(15, 25)\n",
      "(20, 5)\n",
      "(20, 10)\n",
      "(20, 15)\n",
      "(20, 20)\n",
      "(20, 25)\n",
      "(25, 5)\n",
      "(25, 10)\n",
      "(25, 15)\n",
      "(25, 20)\n",
      "(25, 25)\n"
     ]
    }
   ],
   "source": [
    "def perform_operation(arr, complexity):\n",
    "    if complexity == \"constant\":\n",
    "        # O(1) - Return the first item\n",
    "        return arr[0] if arr else None\n",
    "\n",
    "    elif complexity == \"linear\":\n",
    "        # O(n) - Print all items\n",
    "        for item in arr:\n",
    "            print(item)\n",
    "\n",
    "    elif complexity == \"quadratic\":\n",
    "        # O(n^2) - Print all unique pairs\n",
    "        for i in range(len(arr)):\n",
    "            for j in range(len(arr)):\n",
    "                print(f\"({arr[i]}, {arr[j]})\")\n",
    "\n",
    "    else:\n",
    "        print(\"Unsupported complexity type.\")\n",
    "\n",
    "# Example usage\n",
    "arr = [5, 10, 15, 20, 25]\n",
    "\n",
    "print(\"Constant time result:\", perform_operation(arr, \"constant\"))\n",
    "print(\"\\nLinear time output:\")\n",
    "perform_operation(arr, \"linear\")\n",
    "print(\"\\nQuadratic time output:\")\n",
    "perform_operation(arr, \"quadratic\")\n"
   ]
  }
 ],
 "metadata": {
  "kernelspec": {
   "display_name": "venv",
   "language": "python",
   "name": "python3"
  },
  "language_info": {
   "codemirror_mode": {
    "name": "ipython",
    "version": 3
   },
   "file_extension": ".py",
   "mimetype": "text/x-python",
   "name": "python",
   "nbconvert_exporter": "python",
   "pygments_lexer": "ipython3",
   "version": "3.13.2"
  }
 },
 "nbformat": 4,
 "nbformat_minor": 2
}
