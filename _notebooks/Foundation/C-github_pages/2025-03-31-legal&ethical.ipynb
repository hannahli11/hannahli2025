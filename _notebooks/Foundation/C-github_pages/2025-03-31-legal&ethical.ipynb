{
 "cells": [
  {
   "cell_type": "markdown",
   "metadata": {},
   "source": [
    "---\n",
    "toc: true\n",
    "comments: false\n",
    "layout: post\n",
    "title: Legal and Ethical Concerns\n",
    "description: Homework and Hacks\n",
    "type: ccc\n",
    "---"
   ]
  },
  {
   "cell_type": "markdown",
   "metadata": {},
   "source": [
    "# Popcorn Hacks\n",
    "1. Flashcards used to memorize\n",
    "2. Some ways to protect intellecutal property is license agreements, using watermarks and registering your intellectual property\n",
    "3. MIT license is a permissive license that allows users to do almost anything with copies of the software. It prevents any plagiarism or ethical issues as the original license text must be in all copies. \n",
    "MIT License\n",
    "\n",
    "Copyright (c) 2025 Hannah Li\n",
    "\n",
    "Permission is hereby granted, free of charge, to any person obtaining a copy of this software and associated documentation files (the “Software”), to deal in the Software without restriction, including without limitation the rights to use, copy, modify, merge, publish, distribute, sublicense, and/or sell copies of the Software, and to permit persons to whom the Software is furnished to do so, subject to the following conditions:\n",
    "\n",
    "The above copyright notice and this permission notice shall be included in all copies or substantial portions of the Software.\n",
    "\n",
    "THE SOFTWARE IS PROVIDED “AS IS”, WITHOUT WARRANTY OF ANY KIND, EXPRESS OR IMPLIED, INCLUDING BUT NOT LIMITED TO THE WARRANTIES OF MERCHANTABILITY, FITNESS FOR A PARTICULAR PURPOSE AND NONINFRINGEMENT. IN NO EVENT SHALL THE AUTHORS OR COPYRIGHT HOLDERS BE LIABLE FOR ANY CLAIM, DAMAGES OR OTHER LIABILITY, WHETHER IN AN ACTION OF CONTRACT, TORT OR OTHERWISE, ARISING FROM, OUT OF OR IN CONNECTION WITH THE SOFTWARE OR THE USE OR OTHER DEALINGS IN THE SOFTWARE.\n",
    "4. Cite all material I didn't create and check the copyright license before you use anything from online, Gaheera"
   ]
  },
  {
   "cell_type": "markdown",
   "metadata": {},
   "source": [
    "# Homework Hacks\n",
    "- I choose an MIT license for my repository. I chose the MIT license because it gives freedom to users while needing only minimal attribution. This means that others can freely use, modify, and distribute my code, making it accessible to a wider audience without restricting how they use it. Additionally, the simplicity of the license ensures that contributors and users can integrate the code into their projects without worrying about legal issues. I encourage collaboration and innovation while keeping the project open and flexible for both personal and commercial use.\n",
    "\n",
    "[MIT License](https://hannahli11.github.io/hannahli2025/2025/03/31/license_IPYNB_2_.html)\n",
    "\n",
    "\n"
   ]
  },
  {
   "cell_type": "markdown",
   "metadata": {},
   "source": [
    "# MCQ questions\n",
    "31: \n",
    "C: When the student gets permission from the copyright owner of the application\n",
    "\n",
    "\n",
    "51: \n",
    "A: Creative Commons gives creators of digital content the ability to indicate how their works can be legally used and distributed, enabling broad access to digital information.\n",
    "\n",
    "59: \n",
    "C: The original developer of open-source software provides free or low-cost support for users installing and running the software.\n",
    "\n",
    "\n",
    "2018 - 16: \n",
    "D: The user will be in violation of the Digital Millennium Copyright Act (DMCA).\n",
    "\n",
    "\n",
    "2018 - 35:\n",
    "D: Using samples published with a no-rights-reserved Creative Commons license\n",
    "\n",
    "\n",
    "\n",
    "\n",
    "\n",
    "\n",
    "\n",
    "\n",
    "\n"
   ]
  }
 ],
 "metadata": {
  "language_info": {
   "name": "python"
  }
 },
 "nbformat": 4,
 "nbformat_minor": 2
}
