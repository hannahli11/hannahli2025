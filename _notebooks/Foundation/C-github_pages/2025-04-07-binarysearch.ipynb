{
 "cells": [
  {
   "cell_type": "markdown",
   "metadata": {},
   "source": [
    "---\n",
    "toc: true\n",
    "comments: false\n",
    "layout: post\n",
    "title: Binary Search Algorithms\n",
    "description: Homework and Hacks\n",
    "type: ccc\n",
    "---"
   ]
  },
  {
   "cell_type": "markdown",
   "metadata": {},
   "source": [
    "# Popcorn Hacks\n",
    "- 1. C because it ensures that the binary search works because it searches based on the correct order of the list as it assumes the list is sorted. If numList is not sorted, the binary search may fail to find the correct result or even go into an incorrect path.\n",
    "- 2. B because binary search requires the list to be sorted or else the logic won't work. A is wrong because Binary search is actually faster than linear search because linear goes through one element at a time which is not efficient. C is incorrect because binary search returns any occurence not just the first one. D is incorrect because binary search works with duplicates and unique values are not required\n",
    "- 3.\n"
   ]
  },
  {
   "cell_type": "code",
   "execution_count": 1,
   "metadata": {},
   "outputs": [
    {
     "name": "stdout",
     "output_type": "stream",
     "text": [
      "2\n"
     ]
    }
   ],
   "source": [
    "def binary_search(lst, target):\n",
    "    low = 0\n",
    "    high = len(lst) - 1\n",
    "\n",
    "    while low <= high:\n",
    "        mid = (low + high) // 2\n",
    "        if lst[mid] == target:\n",
    "            return mid\n",
    "        elif lst[mid] < target:\n",
    "            low = mid + 1\n",
    "        else:\n",
    "            high = mid - 1\n",
    "\n",
    "    return -1  # Not found\n",
    "\n",
    "# Example usage:\n",
    "letters = ['a', 'b', 'c', 'd', 'e', 'f', 'g']\n",
    "print(binary_search(letters, 'c'))  # Output: 2\n"
   ]
  },
  {
   "cell_type": "markdown",
   "metadata": {},
   "source": [
    "# Homework hack"
   ]
  },
  {
   "cell_type": "code",
   "execution_count": 8,
   "metadata": {},
   "outputs": [
    {
     "name": "stdout",
     "output_type": "stream",
     "text": [
      "✅ Price $1.25 was found in the dataset.\n",
      "✅ Price $6.49 was found in the dataset.\n",
      "❌ Price $10.00 was NOT found in the dataset.\n"
     ]
    }
   ],
   "source": [
    "import pandas as pd\n",
    "\n",
    "# Step 1: Load and clean the dataset\n",
    "data = pd.read_csv(\"school_supplies.csv\")\n",
    "data_cleaned = data.dropna()  # Drop rows with missing data\n",
    "\n",
    "# Step 2: Sort the data by the 'Price' column\n",
    "data_sorted = data_cleaned.sort_values(by=\"Price\")\n",
    "\n",
    "# Step 3: Extract the sorted 'Price' column as a list\n",
    "price_list = data_sorted[\"Price\"].tolist()\n",
    "\n",
    "# Step 4: Implement binary search\n",
    "def binary_search(arr, target):\n",
    "    left = 0\n",
    "    right = len(arr) - 1\n",
    "\n",
    "    while left <= right:\n",
    "        mid = (left + right) // 2\n",
    "        if arr[mid] == target:\n",
    "            return True\n",
    "        elif arr[mid] < target:\n",
    "            left = mid + 1\n",
    "        else:\n",
    "            right = mid - 1\n",
    "    return False\n",
    "\n",
    "# Step 5: Search for specific prices\n",
    "search_prices = [1.25, 6.49, 10.00]\n",
    "\n",
    "for price in search_prices:\n",
    "    if binary_search(price_list, price):\n",
    "        print(f\"✅ Price ${price:.2f} was found in the dataset.\")\n",
    "    else:\n",
    "        print(f\"❌ Price ${price:.2f} was NOT found in the dataset.\")\n"
   ]
  },
  {
   "cell_type": "markdown",
   "metadata": {},
   "source": [
    "Explanation: The code first loads the CSV file using Pandas. It then drops any rows with missing data using the dropna() method to make sure only complete entries are used. After the DataFrame is sorted by the Price column in increasing order. The sorted prices are then extracted into a Python list to help with binary search. The binary search is used to check if the specific prices exist in the sorted list of prices. The function repeatedly narrows the search range based on comparisons with the middle value of the list. Once done searching, the program prints a message indicating whether the price was found or not found in the dataset."
   ]
  }
 ],
 "metadata": {
  "kernelspec": {
   "display_name": "venv",
   "language": "python",
   "name": "python3"
  },
  "language_info": {
   "codemirror_mode": {
    "name": "ipython",
    "version": 3
   },
   "file_extension": ".py",
   "mimetype": "text/x-python",
   "name": "python",
   "nbconvert_exporter": "python",
   "pygments_lexer": "ipython3",
   "version": "3.13.2"
  }
 },
 "nbformat": 4,
 "nbformat_minor": 2
}
