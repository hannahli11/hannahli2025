{
 "cells": [
  {
   "cell_type": "markdown",
   "metadata": {},
   "source": [
    "---\n",
    "layout: post\n",
    "title: Deployment Blog\n",
    "description: Blog for AWS Deployment\n",
    "permalink: /deploymentblog/\n",
    "comments: true\n",
    "---"
   ]
  },
  {
   "cell_type": "code",
   "execution_count": null,
   "metadata": {
    "vscode": {
     "languageId": "html"
    }
   },
   "outputs": [],
   "source": [
    "<!DOCTYPE html>\n",
    "<html lang=\"en\">\n",
    "<head>\n",
    "    <meta charset=\"UTF-8\">\n",
    "    <meta name=\"viewport\" content=\"width=device-width, initial-scale=1.0\">\n",
    "    <title>Deploying MelodyMates on EC2</title>\n",
    "    <style>\n",
    "        body {\n",
    "            font-family: Arial, sans-serif;\n",
    "            margin: 20px;\n",
    "            background-color: #f4f4f4;\n",
    "        }\n",
    "        h1, h2 {\n",
    "            color: #003366;\n",
    "        }\n",
    "        pre {\n",
    "            background-color: #e6e6e6;\n",
    "            padding: 10px;\n",
    "            border-radius: 5px;\n",
    "        }\n",
    "    </style>\n",
    "</head>\n",
    "<body>\n",
    "    <h1>Deploying MelodyMates on Amazon EC2</h1>\n",
    "    \n",
    "    <h2>Server & Container Setup</h2>\n",
    "    <ul>\n",
    "        <li><strong>Cockpit</strong> is the terminal for managing the Amazon EC2 server.</li>\n",
    "        <li>Inside the EC2 server, a Docker container called <strong>melodymates</strong> is running.</li>\n",
    "        <li>The container runs on <strong>port 8404</strong>.</li>\n",
    "    </ul>\n",
    "\n",
    "    <h2>Understanding Docker</h2>\n",
    "    <ul>\n",
    "        <li>A <strong>container</strong> is a virtual computer running our backend server.</li>\n",
    "        <li>When a request reaches the EC2 server on port 8404, <strong>NGINX</strong> routes it to our container.</li>\n",
    "        <li>NGINX identifies the container based on the unique port.</li>\n",
    "        <li>An <strong>image</strong> is the blueprint for the virtual computer (container).</li>\n",
    "        <li>The container runs based on this blueprint.</li>\n",
    "    </ul>\n",
    "\n",
    "    <h2>Docker Commands</h2>\n",
    "    <pre>\n",
    "    docker-compose down  # Stops and removes the container (not the image)\n",
    "    docker-compose build # Creates a new Docker image (blueprint)\n",
    "    docker-compose up    # Runs the container on port 8404\n",
    "    </pre>\n",
    "    \n",
    "    <h2>How Requests Work</h2>\n",
    "    <ul>\n",
    "        <li>When a request is made to the <strong>DNS</strong> (e.g., melodymates.stu.nighthawkcodingsociety.com), it routes to the EC2 server.</li>\n",
    "        <li>NGINX forwards the request to the correct container.</li>\n",
    "        <li>The container processes the request and returns JSON data.</li>\n",
    "        <li>NGINX then sends this response back to the client.</li>\n",
    "    </ul>\n",
    "\n",
    "    <h2>Understanding URLs & PythonURI</h2>\n",
    "    <ul>\n",
    "        <li><strong>DNS</strong>: Converts an IP address into a human-friendly domain name.</li>\n",
    "        <li><strong>PythonURI</strong>: A variable in the frontend that references the server’s URL.</li>\n",
    "        <li>Requests flow from <code>8887</code> (local development) to <code>8404</code> (production).</li>\n",
    "        <li>A <strong>URI</strong> is an endpoint (URL) that the frontend interacts with.</li>\n",
    "    </ul>\n",
    "</body>\n",
    "</html>\n"
   ]
  }
 ],
 "metadata": {
  "language_info": {
   "name": "python"
  }
 },
 "nbformat": 4,
 "nbformat_minor": 2
}
