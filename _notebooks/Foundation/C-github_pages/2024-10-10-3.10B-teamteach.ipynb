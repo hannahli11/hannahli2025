{
 "cells": [
  {
   "cell_type": "markdown",
   "metadata": {},
   "source": [
    "## 3.10.1 "
   ]
  },
  {
   "cell_type": "markdown",
   "metadata": {},
   "source": [
    "### Popcorn Hack 1:"
   ]
  },
  {
   "cell_type": "code",
   "execution_count": 4,
   "metadata": {
    "vscode": {
     "languageId": "javascript"
    }
   },
   "outputs": [
    {
     "data": {
      "application/javascript": "// Create an array with some elements\nlet myArray = [1, 2, 3, 4, 5];\n\n// Display the original array\nconsole.log(\"Original Array: \" + myArray);\n\n// Reverse the array using the reverse() method\nmyArray.reverse();\n\n// Display the reversed array\nconsole.log(\"Reversed Array: \" + myArray);\n",
      "text/plain": [
       "<IPython.core.display.Javascript object>"
      ]
     },
     "metadata": {},
     "output_type": "display_data"
    }
   ],
   "source": [
    "%%js \n",
    "let myArray = [1, 2, 3, 4, 5];\n",
    "console.log(\"Original Array: \" + myArray);\n",
    "myArray.reverse();\n",
    "console.log(\"Reversed Array: \" + myArray);\n"
   ]
  },
  {
   "cell_type": "markdown",
   "metadata": {},
   "source": [
    "### Popcorn Hack 2:"
   ]
  },
  {
   "cell_type": "code",
   "execution_count": null,
   "metadata": {
    "vscode": {
     "languageId": "javascript"
    }
   },
   "outputs": [],
   "source": [
    "%%js \n",
    "let myArray = [];\n",
    "\n",
    "myArray.unshift(3);\n",
    "myArray.unshift(2);\n",
    "myArray.unshift(1);\n",
    "\n",
    "console.log(\"Array after using unshift():\", myArray);\n",
    "\n",
    "let newArray = [0, ...myArray];\n",
    "\n",
    "console.log(\"New array with spread operator:\", newArray);\n"
   ]
  },
  {
   "cell_type": "markdown",
   "metadata": {},
   "source": [
    "### Popcorn Hack 3:"
   ]
  },
  {
   "cell_type": "code",
   "execution_count": null,
   "metadata": {
    "vscode": {
     "languageId": "javascript"
    }
   },
   "outputs": [],
   "source": [
    "%%js \n",
    "let numbers = [1, 2, 3, 4, 5, 6, 7, 8, 9, 10];\n",
    "\n",
    "let evenNumbers = numbers.filter(function(number) {\n",
    "    return number % 2 === 0; // Filter out only even numbers\n",
    "});\n",
    "\n",
    "console.log(\"Original Array:\", numbers);\n",
    "console.log(\"Filtered Array (Even Numbers):\", evenNumbers);\n"
   ]
  },
  {
   "cell_type": "markdown",
   "metadata": {},
   "source": [
    "## 3.10.2"
   ]
  },
  {
   "cell_type": "markdown",
   "metadata": {},
   "source": [
    "### Popcorn Hack 1:"
   ]
  },
  {
   "cell_type": "code",
   "execution_count": 5,
   "metadata": {},
   "outputs": [
    {
     "name": "stdout",
     "output_type": "stream",
     "text": [
      "Updated List: [10, 20, 30, 25, 35, 40]\n"
     ]
    }
   ],
   "source": [
    "\n",
    "my_list = [10, 20, 30, 40]\n",
    "my_list.insert(-1, 35)  \n",
    "my_list.insert(-2, 25)  \n",
    "print(\"Updated List:\", my_list)\n"
   ]
  },
  {
   "cell_type": "markdown",
   "metadata": {},
   "source": [
    "### Popcorn Hack 2:"
   ]
  },
  {
   "cell_type": "code",
   "execution_count": 7,
   "metadata": {},
   "outputs": [
    {
     "name": "stdout",
     "output_type": "stream",
     "text": [
      "Combined List: ['popcorn', 'butter', 'salt', 'caramel', 'cheese', 'chocolate']\n"
     ]
    }
   ],
   "source": [
    "list1 = [\"popcorn\", \"butter\", \"salt\"]\n",
    "list2 = [\"caramel\", \"cheese\", \"chocolate\"]\n",
    "\n",
    "list1.extend(list2)\n",
    "\n",
    "print(\"Combined List:\", list1)\n"
   ]
  },
  {
   "cell_type": "markdown",
   "metadata": {},
   "source": [
    "### Popcorn Hack 3:"
   ]
  },
  {
   "cell_type": "code",
   "execution_count": null,
   "metadata": {},
   "outputs": [],
   "source": [
    "my_list = [\"apple\", \"banana\", \"cherry\", \"date\", \"elderberry\"]\n",
    "\n",
    "my_list.remove(\"banana\")\n",
    "my_list.pop(2)\n",
    "del my_list[0]\n",
    "\n",
    "print(\"Updated List:\", my_list)\n"
   ]
  },
  {
   "cell_type": "markdown",
   "metadata": {},
   "source": [
    "## 3.10.3"
   ]
  },
  {
   "cell_type": "markdown",
   "metadata": {},
   "source": [
    "### Problem 1:"
   ]
  },
  {
   "cell_type": "code",
   "execution_count": null,
   "metadata": {},
   "outputs": [],
   "source": [
    "grocery_list = []\n",
    "\n",
    "for i in range(3):\n",
    "    item = input(\"Enter a grocery item: \")\n",
    "    grocery_list.append(item)\n",
    "\n",
    "print(\"Current Grocery List:\", grocery_list)\n",
    "\n",
    "grocery_list.sort()\n",
    "print(\"Sorted Grocery List:\", grocery_list)\n",
    "\n",
    "item_to_remove = input(\"Enter an item to remove from the list: \")\n",
    "if item_to_remove in grocery_list:\n",
    "    grocery_list.remove(item_to_remove)\n",
    "    print(\"Updated Grocery List:\", grocery_list)\n",
    "else:\n",
    "    print(f\"{item_to_remove} is not in the grocery list.\")\n"
   ]
  },
  {
   "cell_type": "markdown",
   "metadata": {},
   "source": [
    "### Problem 2:"
   ]
  },
  {
   "cell_type": "code",
   "execution_count": null,
   "metadata": {},
   "outputs": [],
   "source": [
    "original_list = list(range(1, 21))\n",
    "print(\"Original List:\", original_list)\n",
    "even_numbers = [num for num in original_list if num % 2 == 0]\n",
    "print(\"Even Numbers:\", even_numbers)\n"
   ]
  },
  {
   "cell_type": "markdown",
   "metadata": {},
   "source": [
    "### Problem 3:"
   ]
  },
  {
   "cell_type": "code",
   "execution_count": null,
   "metadata": {},
   "outputs": [],
   "source": [
    "grades = []\n",
    "\n",
    "for i in range(3):\n",
    "    grade = int(input(\"Enter a grade: \"))\n",
    "    grades.append(grade)\n",
    "\n",
    "print(\"List of Grades:\", grades)\n",
    "\n",
    "passing_grades = [grade for grade in grades if grade > 60]\n",
    "print(\"Grades above 60:\", passing_grades)\n"
   ]
  },
  {
   "cell_type": "markdown",
   "metadata": {},
   "source": [
    "### Problem 4:"
   ]
  },
  {
   "cell_type": "code",
   "execution_count": null,
   "metadata": {},
   "outputs": [],
   "source": [
    "numbers = list(range(1, 11))\n",
    "print(\"Original List:\", numbers)\n",
    "\n",
    "numbers.sort(reverse=True)\n",
    "print(\"Sorted List (Descending):\", numbers)\n",
    "\n",
    "first_five = numbers[:5]\n",
    "print(\"First Five Numbers:\", first_five)\n",
    "\n",
    "numbers.sort()\n",
    "print(\"Sorted List (Ascending):\", numbers)\n"
   ]
  },
  {
   "cell_type": "markdown",
   "metadata": {},
   "source": [
    "## 3.10.4"
   ]
  },
  {
   "cell_type": "markdown",
   "metadata": {},
   "source": [
    "### Problem 1:"
   ]
  },
  {
   "cell_type": "code",
   "execution_count": null,
   "metadata": {
    "vscode": {
     "languageId": "javascript"
    }
   },
   "outputs": [],
   "source": [
    "%%js \n",
    "let myArray = [10, 20, 30, 40, 50];\n",
    "console.log(myArray);\n",
    "\n",
    "myArray.reverse();\n",
    "console.log(myArray);\n"
   ]
  },
  {
   "cell_type": "markdown",
   "metadata": {},
   "source": [
    "### Problem 2:"
   ]
  },
  {
   "cell_type": "code",
   "execution_count": null,
   "metadata": {
    "vscode": {
     "languageId": "javascript"
    }
   },
   "outputs": [],
   "source": [
    "%%js \n",
    "let sports = [\"soccer\", \"football\", \"basketball\", \"wrestling\", \"swimming\"];\n",
    "console.log(sports[0]);\n",
    "console.log(sports[3]);\n"
   ]
  },
  {
   "cell_type": "markdown",
   "metadata": {},
   "source": [
    "### Problem 3:"
   ]
  },
  {
   "cell_type": "code",
   "execution_count": null,
   "metadata": {
    "vscode": {
     "languageId": "javascript"
    }
   },
   "outputs": [],
   "source": [
    "%%js \n",
    "let choresList = [\"wash dishes\", \"vacuum\", \"laundry\", \"clean bathroom\"];\n",
    "console.log(choresList);\n",
    "\n",
    "choresList.push(\"take out trash\");\n",
    "console.log(choresList);\n",
    "\n",
    "choresList.shift();\n",
    "console.log(choresList);\n",
    "\n",
    "choresList.pop();\n",
    "console.log(choresList);\n",
    "\n",
    "choresList.unshift(\"dust furniture\");\n",
    "console.log(choresList);\n",
    "\n",
    "choresList.push(...[\"mop floor\", \"organize closet\"]);\n",
    "console.log(choresList);\n"
   ]
  },
  {
   "cell_type": "markdown",
   "metadata": {},
   "source": [
    "### Problem 4:"
   ]
  },
  {
   "cell_type": "code",
   "execution_count": 8,
   "metadata": {
    "vscode": {
     "languageId": "javascript"
    }
   },
   "outputs": [
    {
     "data": {
      "application/javascript": "let randomNumbers = [12, 7, 34, 5, 18, 21, 8, 3, 14, 17];\n\nfunction countEvenNumbers(arr) {\n    let count = 0;\n    for (let i = 0; i < arr.length; i++) {\n        if (arr[i] % 2 === 0) {\n            count++;\n        }\n    }\n    return count;\n}\n\nlet evenCount = countEvenNumbers(randomNumbers);\nconsole.log(evenCount);\n",
      "text/plain": [
       "<IPython.core.display.Javascript object>"
      ]
     },
     "metadata": {},
     "output_type": "display_data"
    }
   ],
   "source": [
    "%%js \n",
    "let randomNumbers = [12, 7, 34, 5, 18, 21, 8, 3, 14, 17];\n",
    "\n",
    "function countEvenNumbers(arr) {\n",
    "    let count = 0;\n",
    "    for (let i = 0; i < arr.length; i++) {\n",
    "        if (arr[i] % 2 === 0) {\n",
    "            count++;\n",
    "        }\n",
    "    }\n",
    "    return count;\n",
    "}\n",
    "\n",
    "let evenCount = countEvenNumbers(randomNumbers);\n",
    "console.log(evenCount);\n"
   ]
  }
 ],
 "metadata": {
  "kernelspec": {
   "display_name": "venv",
   "language": "python",
   "name": "python3"
  },
  "language_info": {
   "codemirror_mode": {
    "name": "ipython",
    "version": 3
   },
   "file_extension": ".py",
   "mimetype": "text/x-python",
   "name": "python",
   "nbconvert_exporter": "python",
   "pygments_lexer": "ipython3",
   "version": "3.12.3"
  }
 },
 "nbformat": 4,
 "nbformat_minor": 2
}
