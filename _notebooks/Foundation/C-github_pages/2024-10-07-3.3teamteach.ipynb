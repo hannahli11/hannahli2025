{
 "cells": [
  {
   "cell_type": "code",
   "execution_count": null,
   "metadata": {
    "vscode": {
     "languageId": "plaintext"
    }
   },
   "outputs": [],
   "source": [
    "3.3.3.Hack 1 Python:"
   ]
  },
  {
   "cell_type": "code",
   "execution_count": null,
   "metadata": {},
   "outputs": [],
   "source": [
    "# Define a list of integers\n",
    "numbers = [10, 20, 30, 40, 50]\n",
    "\n",
    "# Compute the sum of all integers\n",
    "sum_of_numbers = sum(numbers)\n",
    "\n",
    "# Print the sum\n",
    "print(\"Sum of integers:\", sum_of_numbers)\n"
   ]
  },
  {
   "cell_type": "markdown",
   "metadata": {},
   "source": [
    "3.3.4 Hack 1 Javascript:"
   ]
  },
  {
   "cell_type": "code",
   "execution_count": null,
   "metadata": {
    "vscode": {
     "languageId": "javascript"
    }
   },
   "outputs": [],
   "source": [
    "%%js\n",
    "function calculateToThirtyTwo() {\n",
    "    const a = 8; // you can adjust these values\n",
    "    const b = 4; // you can adjust these values\n",
    "    const result = (a * b) + (b * b) - (b / b);\n",
    "    return result; // returns 32\n",
    "}\n",
    "\n",
    "console.log(calculateToThirtyTwo()); // Output: 32\n"
   ]
  },
  {
   "cell_type": "markdown",
   "metadata": {},
   "source": [
    "3.3.3 Hw #1 Python:"
   ]
  },
  {
   "cell_type": "code",
   "execution_count": null,
   "metadata": {},
   "outputs": [],
   "source": [
    "def calculate_mean_median():\n",
    "    # Define a list of integers\n",
    "    numbers = [1, 2, 3, 4, 5, 6, 7, 8, 9]\n",
    "    \n",
    "    # Compute the arithmetic mean\n",
    "    mean = sum(numbers) / len(numbers)\n",
    "    \n",
    "    # Compute the median\n",
    "    numbers.sort()\n",
    "    mid = len(numbers) // 2\n",
    "    if len(numbers) % 2 == 0:\n",
    "        median = (numbers[mid - 1] + numbers[mid]) / 2\n",
    "    else:\n",
    "        median = numbers[mid]\n",
    "\n",
    "    # Print both results\n",
    "    print(\"Mean:\", mean)\n",
    "    print(\"Median:\", median)\n",
    "\n",
    "# Call the function\n",
    "calculate_mean_median()\n"
   ]
  },
  {
   "cell_type": "markdown",
   "metadata": {},
   "source": [
    "Hw 2 Python:"
   ]
  },
  {
   "cell_type": "code",
   "execution_count": null,
   "metadata": {},
   "outputs": [],
   "source": [
    "def collatz_sequence(a):\n",
    "    # Initialize the sequence with the starting number\n",
    "    sequence = [a]\n",
    "    \n",
    "    # Generate the Collatz sequence\n",
    "    while a != 1:\n",
    "        if a % 2 == 0:\n",
    "            a = a // 2\n",
    "        else:\n",
    "            a = 3 * a + 1\n",
    "        sequence.append(a)\n",
    "    \n",
    "    # Print the sequence\n",
    "    print(\"Collatz sequence:\", sequence)\n",
    "\n",
    "# Example usage\n",
    "collatz_sequence(7)\n"
   ]
  }
 ],
 "metadata": {
  "language_info": {
   "name": "python"
  }
 },
 "nbformat": 4,
 "nbformat_minor": 2
}
