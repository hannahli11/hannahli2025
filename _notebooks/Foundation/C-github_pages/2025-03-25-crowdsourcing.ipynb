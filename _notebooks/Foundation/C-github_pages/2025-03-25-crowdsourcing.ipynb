{
 "cells": [
  {
   "cell_type": "markdown",
   "metadata": {},
   "source": [
    "---\n",
    "toc: true\n",
    "comments: false\n",
    "layout: post\n",
    "title: Crowdsourcing\n",
    "description: Homework and Hacks\n",
    "type: ccc\n",
    "---"
   ]
  },
  {
   "cell_type": "markdown",
   "metadata": {},
   "source": [
    "# Mango Rating: 7\n",
    "\n",
    "# MC\n",
    "- C\n",
    "\n",
    "# Popcorn Hack 3\n",
    "Google Maps is an example of crowdsourcing as it uses users contribution of real time accidents, traffic jams, or any road alerts to improve navigation and accuracy for all users. \n",
    "\n",
    "# Pop Songs\n",
    "- Levatating Dua Lipa\n",
    "- Espresso Sabrina Carpenter\n",
    "- It will improve as more people contribute to making a pop playlist but it will harm as people can also put nonpop songs into the playlist"
   ]
  }
 ],
 "metadata": {
  "language_info": {
   "name": "python"
  }
 },
 "nbformat": 4,
 "nbformat_minor": 2
}
