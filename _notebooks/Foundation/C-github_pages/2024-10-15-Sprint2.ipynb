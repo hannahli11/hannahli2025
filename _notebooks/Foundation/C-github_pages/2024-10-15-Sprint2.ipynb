{
 "cells": [
  {
   "cell_type": "markdown",
   "metadata": {},
   "source": [
    "---\n",
    "layout: post\n",
    "title: Sprint 2 Personal Blog\n",
    "description: My personal blog for sprint 2\n",
    "permalink: /sprint2/\n",
    "comments: true\n",
    "---"
   ]
  },
  {
   "cell_type": "markdown",
   "metadata": {},
   "source": [
    "## Lesson Taught\n",
    "- My group taught lesson **3.10 Lists** but I personally taught about accessing and deleting elements. I talked about the positive and negative indexing for accessing elements as well as the code to use for deleting elements. \n",
    "- [**Link to my lesson**](https://nighthawkcoders.github.io/portfolio_2025/csp/big-idea/p4/3-10A-2)\n"
   ]
  },
  {
   "cell_type": "markdown",
   "metadata": {},
   "source": [
    "### Lesson Hacks\n",
    "- My lesson hack was to create a list, then have the code display the second element/first index, delete the second element/first index, then have the code display the new list."
   ]
  },
  {
   "cell_type": "markdown",
   "metadata": {},
   "source": [
    "## Summary of Units"
   ]
  },
  {
   "cell_type": "markdown",
   "metadata": {},
   "source": [
    "### 3.1 \n",
    "This lesson covers the basics of variables, their types, and how to use them in Python and JavaScript. Variables store data that can change based on input, and good naming conventions are important for readability. Python uses types like integers, strings, booleans, floats, and lists. JavaScript adds arrays and objects (dictionaries), and variables can be declared with var, let, or const depending on their mutability. The lesson also explains how to concatenate strings, print variables, and handle operators for addition and string joining.\n",
    "- [**Hacks & Homework**](https://hannahli11.github.io/hannahli2025/2024/10/07/3.1&3.4teamteach_IPYNB_2_.html)"
   ]
  },
  {
   "cell_type": "markdown",
   "metadata": {},
   "source": [
    "### 3.2\n",
    "This lesson introduces key Python data types. Integers represent whole numbers, while floats handle decimal precision. Strings are sequences of characters used for text, and lists are ordered, mutable collections. Tuples are similar to lists but immutable, while dictionaries store key-value pairs. Sets are collections of unique elements, useful for mathematical operations. Booleans represent True or False, and None signifies the absence of a value. Each type plays a crucial role in different programming tasks.\n",
    "- [**Hacks & Homework**](https://hannahli11.github.io/hannahli2025/2024/10/11/3.2-teamteach_IPYNB_2_.html)"
   ]
  },
  {
   "cell_type": "markdown",
   "metadata": {},
   "source": [
    "### 3.3\n",
    "An algorithm is a structured set of instructions designed to perform specific tasks, exemplified by processes like baking cookies or getting ready in the morning. Key components of algorithms include sequencing (the order of steps), selection (decision-making based on conditions), and iteration (repeating steps until a condition is met). Algorithms can be represented visually through flowcharts or described in pseudocode for clarity. Additionally, mathematical operations in Python include basic arithmetic operations like addition, subtraction, multiplication, and division, following the order of operations to ensure accurate calculations.\n",
    "- [**Hacks & Homework**](https://hannahli11.github.io/hannahli2025/2024/10/07/3.3teamteach_IPYNB_2_.html)"
   ]
  },
  {
   "cell_type": "markdown",
   "metadata": {},
   "source": [
    "### 3.4\n",
    "In Python, strings can be printed directly or stored in descriptively named variables. Quotes within strings can be managed using escape characters or different quotes, and multi-line strings use triple quotes. You can access specific characters or ranges through indexing and slicing, and manipulate strings with functions like .lower(), .upper(), .count(), .find(), and .replace(). Concatenation can be done with the + operator or formatted strings for clarity. In JavaScript, strings are immutable primitive types, stored similarly to Python.\n",
    "- [**Hacks & Homework**](https://hannahli11.github.io/hannahli2025/2024/10/07/3.1&3.4teamteach_IPYNB_2_.html)"
   ]
  },
  {
   "cell_type": "markdown",
   "metadata": {},
   "source": [
    "### 3.5\n",
    "This lesson covered relational and logical operators in Python and JavaScript, essential for comparing values and controlling program flow. Key relational operators include ==, !=, >, and <, while logical operators like and, or, and not combine boolean expressions. We also discussed De Morgan's Laws, which simplify conditional logic, and practical applications for evaluating conditions like checking for negative numbers or verifying scores.\n",
    "- [**Hacks & Homework**](https://hannahli11.github.io/hannahli2025/2024/10/07/3.5teamteach_IPYNB_2_.html)"
   ]
  },
  {
   "cell_type": "markdown",
   "metadata": {},
   "source": [
    "### 3.6\n",
    "This lesson covered conditionals, which control program flow based on true or false conditions. Key types include the if statement for single conditions, if-else for alternatives, and if-else if-else for multiple checks. The switch statement simplifies handling multiple cases for a variable, while the ternary operator provides a shorthand for if-else logic. Mastering these constructs is essential for building dynamic applications.\n",
    "- [**Hacks & Homework**](https://hannahli11.github.io/hannahli2025/2024/10/09/3.6.teamteach_IPYNB_2_.html)"
   ]
  },
  {
   "cell_type": "markdown",
   "metadata": {},
   "source": [
    "### 3.7\n",
    "Nested conditionals extend the concepts of If-Then-Else statements by allowing a conditional statement to be placed within another. This structure enables more complex decision-making in code, allowing for different actions to be executed based on multiple conditions.\n",
    "- [**Hacks & Homework**](https://hannahli11.github.io/hannahli2025/2024/10/09/3.7.teamteach_IPYNB_2_.html)"
   ]
  },
  {
   "cell_type": "markdown",
   "metadata": {},
   "source": [
    "### 3.8\n",
    "This lesson focused on loops in programming, specifically while loops and for loops. While loops consist of a condition and code to execute, and can be nested for complex operations. For loops are used to iterate through lists, dictionaries, or ranges, allowing access to each element or character. Additionally, loops can include if statements for conditional checks, and error handling can be managed with try/except blocks. Lastly, recursion involves calling a function within itself to repeat its execution.\n",
    "- [**Hacks & Homework**](https://hannahli11.github.io/hannahli2025/2024/10/14/3.8teamteach_IPYNB_2_.html)"
   ]
  },
  {
   "cell_type": "markdown",
   "metadata": {},
   "source": [
    "### 3.10\n",
    "A list is a data structure that holds multiple elements, each identified by its index. Key operations include accessing elements with aList[i], assigning values, inserting, appending, and removing elements. You can iterate through a list with a loop, and lists can be modified using various methods like append, remove, or pop. The length of a list can be determined using .length in JavaScript or len() in Python. To find the minimum value in a list, you can loop through the elements, comparing each to identify the smallest value."
   ]
  },
  {
   "cell_type": "markdown",
   "metadata": {},
   "source": [
    " <script src=\"https://utteranc.es/client.js\"\n",
    "        repo=\"hannahli11/hannahli2025\"\n",
    "        issue-term=\"pathname\"\n",
    "        theme=\"github-light\"\n",
    "        crossorigin=\"anonymous\"\n",
    "        async>\n",
    "</script>\n",
    "\n"
   ]
  }
 ],
 "metadata": {
  "language_info": {
   "name": "python"
  }
 },
 "nbformat": 4,
 "nbformat_minor": 2
}
