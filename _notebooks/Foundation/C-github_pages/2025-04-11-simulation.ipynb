{
 "cells": [
  {
   "cell_type": "markdown",
   "metadata": {},
   "source": [
    "---\n",
    "toc: true\n",
    "comments: false\n",
    "layout: post\n",
    "title: Simulation\n",
    "description: Homework and Hacks\n",
    "type: ccc\n",
    "---"
   ]
  },
  {
   "cell_type": "markdown",
   "metadata": {},
   "source": [
    "# Popcorn Hacks\n",
    "2. "
   ]
  },
  {
   "cell_type": "code",
   "execution_count": 1,
   "metadata": {},
   "outputs": [
    {
     "name": "stdout",
     "output_type": "stream",
     "text": [
      "Today’s random activity: Go for a run\n"
     ]
    }
   ],
   "source": [
    "# Popcorn Hack Number 2 (Random): Make a random algorithm to choose a daily activity:\n",
    "import random\n",
    "# Step 1: Define a list of activities\n",
    "activities = ['Go for a walk', 'Read a book', 'Play basketball', 'Paint', 'Watch a movie', 'Take a nap', 'Go for a run', 'Gym', 'Sit outside', 'Listen to music', 'Be productive and do your homework']\n",
    "# Step 2: Randomly choose an activity\n",
    "random_activity = random.choice(activities)\n",
    "# Step 3: Display the chosen activity\n",
    "print(f\"Today’s random activity: {random_activity}\")\n"
   ]
  },
  {
   "cell_type": "markdown",
   "metadata": {},
   "source": [
    "3."
   ]
  },
  {
   "cell_type": "code",
   "execution_count": 2,
   "metadata": {},
   "outputs": [
    {
     "name": "stdout",
     "output_type": "stream",
     "text": [
      "Hannah will be monitoring eat!\n",
      "Gaheera will be monitoring sleep!\n",
      "Shriya will be monitoring code code code!\n"
     ]
    }
   ],
   "source": [
    "# Popcorn Hack Number 3: Using a loops in random\n",
    "# This popcorn hack assigns an activity to each person\n",
    "import random\n",
    "hosts = ['Hannah', 'Gaheera', 'Shriya']\n",
    "activities = ['sleep', 'code code code', 'eat', 'shadow box', 'tag']\n",
    "# Randomly shuffle the list of activities to assign them randomly to the guests\n",
    "random.shuffle(activities)\n",
    "# Loop through each guest and assign them a random activity\n",
    "for i in range(len(hosts)):\n",
    "    print(f\"{hosts[i]} will be monitoring {activities[i]}!\")"
   ]
  },
  {
   "cell_type": "markdown",
   "metadata": {},
   "source": [
    "## MC : C\n",
    "## MC: D"
   ]
  },
  {
   "cell_type": "markdown",
   "metadata": {},
   "source": [
    "1. Dice roller"
   ]
  },
  {
   "cell_type": "code",
   "execution_count": 3,
   "metadata": {},
   "outputs": [
    {
     "name": "stdout",
     "output_type": "stream",
     "text": [
      "Number: 33\n"
     ]
    }
   ],
   "source": [
    "import random\n",
    "\n",
    "def roll_dice():\n",
    "    return random.randint(1, 100)\n",
    "\n",
    "dice_roll = roll_dice()\n",
    "print(\"Number:\", dice_roll)"
   ]
  },
  {
   "cell_type": "markdown",
   "metadata": {},
   "source": [
    "2."
   ]
  },
  {
   "cell_type": "code",
   "execution_count": 4,
   "metadata": {},
   "outputs": [
    {
     "name": "stdout",
     "output_type": "stream",
     "text": [
      "Computer chose: rock\n",
      "You chose: paper\n",
      "You win!\n"
     ]
    }
   ],
   "source": [
    "import random\n",
    "\n",
    "def play_rock_paper_scissors():\n",
    "    choices = ['rock', 'paper', 'scissors']\n",
    "    computer_choice = random.choice(choices)\n",
    "    user_choice = input(\"Enter your choice (rock, paper, or scissors): \")\n",
    "\n",
    "    if user_choice not in choices:\n",
    "        print(\"Invalid choice. Please try again.\")\n",
    "        return\n",
    "\n",
    "    print(\"Computer chose:\", computer_choice)\n",
    "    print(\"You chose:\", user_choice)\n",
    "\n",
    "    if user_choice == computer_choice:\n",
    "        print(\"It's a tie!\")\n",
    "    elif (user_choice == 'rock' and computer_choice == 'scissors') or (user_choice == 'paper' and computer_choice == 'rock') or (user_choice == 'scissors' and computer_choice == 'paper'):\n",
    "        print(\"You win!\")\n",
    "    else:\n",
    "        print(\"You lose!\")\n",
    "\n",
    "play_rock_paper_scissors()\n"
   ]
  },
  {
   "cell_type": "markdown",
   "metadata": {},
   "source": [
    "## MC: C\n",
    "## MC: D"
   ]
  },
  {
   "cell_type": "markdown",
   "metadata": {},
   "source": [
    "# Random Algorithm Homework 1"
   ]
  },
  {
   "cell_type": "code",
   "execution_count": null,
   "metadata": {},
   "outputs": [
    {
     "name": "stdout",
     "output_type": "stream",
     "text": [
      "Random Team Assignments:\n",
      "\n",
      "Team Firebolts:\n",
      " - Ben\n",
      " - Chloe\n",
      " - David\n",
      " - Jade\n",
      " - Luna\n",
      " - Mason\n",
      " - Nina\n",
      " - Owen\n",
      "\n",
      "Team Thunderstrikes:\n",
      " - Ella\n",
      "\n",
      "Team Shadow Ninjas:\n",
      " - Alice\n",
      " - Frank\n",
      " - Grace\n",
      " - Hannah\n",
      " - Isaac\n",
      " - Kyle\n",
      "\n"
     ]
    }
   ],
   "source": [
    "import random\n",
    "\n",
    "# List of 15 students\n",
    "students = [\n",
    "    \"Alice\", \"Ben\", \"Chloe\", \"David\", \"Ella\",\n",
    "    \"Frank\", \"Grace\", \"Hannah\", \"Isaac\", \"Jade\",\n",
    "    \"Kyle\", \"Luna\", \"Mason\", \"Nina\", \"Owen\"\n",
    "]\n",
    "\n",
    "# Creative team names\n",
    "teams = {\n",
    "    \"Tralalero Tralala\": [],\n",
    "    \"Tung Tung Tung Tung Tung Tung Tung Tung Tung Sahur\": [],\n",
    "    \"Team Shadow Ninjas\": []\n",
    "}\n",
    "\n",
    "# Randomly assign each student to a team\n",
    "for student in students:\n",
    "    team_name = random.choice(list(teams.keys()))\n",
    "    teams[team_name].append(student)\n",
    "\n",
    "# Print the team assignments\n",
    "print(\"Random Team Assignments:\\n\")\n",
    "for team, members in teams.items():\n",
    "    print(f\"{team}:\")\n",
    "    for member in members:\n",
    "        print(f\" - {member}\")\n",
    "    print()\n"
   ]
  },
  {
   "cell_type": "markdown",
   "metadata": {},
   "source": [
    "# Random Algorithm Homework 2"
   ]
  },
  {
   "cell_type": "code",
   "execution_count": 1,
   "metadata": {},
   "outputs": [
    {
     "name": "stdout",
     "output_type": "stream",
     "text": [
      "7-Day Weather Forecast:\n",
      "\n",
      "Day 1: Cloudy\n",
      "Day 2: Rainy\n",
      "Day 3: Sunny\n",
      "Day 4: Rainy\n",
      "Day 5: Sunny\n",
      "Day 6: Cloudy\n",
      "Day 7: Rainy\n"
     ]
    }
   ],
   "source": [
    "import random\n",
    "\n",
    "# Possible weather types\n",
    "weather_options = ['Sunny', 'Cloudy', 'Rainy']\n",
    "\n",
    "# Number of days to simulate\n",
    "num_days = 7\n",
    "\n",
    "print(\"7-Day Weather Forecast:\\n\")\n",
    "\n",
    "for day in range(1, num_days + 1):\n",
    "    weather = random.choice(weather_options)\n",
    "    print(f\"Day {day}: {weather}\")\n"
   ]
  },
  {
   "cell_type": "markdown",
   "metadata": {},
   "source": [
    "# Simulation Homework"
   ]
  },
  {
   "cell_type": "code",
   "execution_count": 2,
   "metadata": {},
   "outputs": [
    {
     "name": "stdout",
     "output_type": "stream",
     "text": [
      "Coffee Shop Queue Simulation:\n",
      "\n",
      "Customer 1: 2 minute(s)\n",
      "Customer 2: 2 minute(s)\n",
      "Customer 3: 5 minute(s)\n",
      "Customer 4: 5 minute(s)\n",
      "Customer 5: 5 minute(s)\n",
      "\n",
      "Total time to serve all customers: 19 minutes\n"
     ]
    }
   ],
   "source": [
    "import random\n",
    "\n",
    "# Number of customers\n",
    "num_customers = 5\n",
    "\n",
    "# Generate random service times for each customer (1 to 5 minutes)\n",
    "service_times = [random.randint(1, 5) for _ in range(num_customers)]\n",
    "\n",
    "# Calculate total service time\n",
    "total_time = sum(service_times)\n",
    "\n",
    "# Print each customer's service time\n",
    "print(\"Coffee Shop Queue Simulation:\\n\")\n",
    "for i, time in enumerate(service_times, start=1):\n",
    "    print(f\"Customer {i}: {time} minute(s)\")\n",
    "\n",
    "print(f\"\\nTotal time to serve all customers: {total_time} minutes\")\n"
   ]
  }
 ],
 "metadata": {
  "kernelspec": {
   "display_name": "venv",
   "language": "python",
   "name": "python3"
  },
  "language_info": {
   "codemirror_mode": {
    "name": "ipython",
    "version": 3
   },
   "file_extension": ".py",
   "mimetype": "text/x-python",
   "name": "python",
   "nbconvert_exporter": "python",
   "pygments_lexer": "ipython3",
   "version": "3.13.2"
  }
 },
 "nbformat": 4,
 "nbformat_minor": 2
}
